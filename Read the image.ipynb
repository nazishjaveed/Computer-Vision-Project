{
 "cells": [
  {
   "cell_type": "markdown",
   "id": "85629452",
   "metadata": {},
   "source": [
    "# Read the image"
   ]
  },
  {
   "cell_type": "code",
   "execution_count": 13,
   "id": "a2f31e16",
   "metadata": {},
   "outputs": [],
   "source": [
    "import cv2\n"
   ]
  },
  {
   "cell_type": "code",
   "execution_count": 14,
   "id": "31f0a2a3",
   "metadata": {},
   "outputs": [],
   "source": [
    "img = cv2.imread('img1.png')"
   ]
  },
  {
   "cell_type": "code",
   "execution_count": 15,
   "id": "35c15a6b",
   "metadata": {},
   "outputs": [
    {
     "data": {
      "text/plain": [
       "array([[[219, 219, 219],\n",
       "        [219, 219, 219],\n",
       "        [219, 219, 219],\n",
       "        ...,\n",
       "        [219, 219, 219],\n",
       "        [219, 219, 219],\n",
       "        [219, 219, 219]],\n",
       "\n",
       "       [[234, 234, 234],\n",
       "        [234, 234, 234],\n",
       "        [234, 234, 234],\n",
       "        ...,\n",
       "        [234, 234, 234],\n",
       "        [234, 234, 234],\n",
       "        [234, 234, 234]],\n",
       "\n",
       "       [[250, 250, 250],\n",
       "        [250, 250, 250],\n",
       "        [250, 250, 250],\n",
       "        ...,\n",
       "        [250, 250, 250],\n",
       "        [250, 250, 250],\n",
       "        [250, 250, 250]],\n",
       "\n",
       "       ...,\n",
       "\n",
       "       [[245, 239, 237],\n",
       "        [245, 239, 237],\n",
       "        [245, 239, 237],\n",
       "        ...,\n",
       "        [245, 239, 237],\n",
       "        [245, 239, 237],\n",
       "        [245, 239, 237]],\n",
       "\n",
       "       [[245, 239, 237],\n",
       "        [245, 239, 237],\n",
       "        [245, 239, 237],\n",
       "        ...,\n",
       "        [245, 239, 237],\n",
       "        [245, 239, 237],\n",
       "        [245, 239, 237]],\n",
       "\n",
       "       [[245, 239, 237],\n",
       "        [245, 239, 237],\n",
       "        [245, 239, 237],\n",
       "        ...,\n",
       "        [245, 239, 237],\n",
       "        [245, 239, 237],\n",
       "        [245, 239, 237]]], dtype=uint8)"
      ]
     },
     "execution_count": 15,
     "metadata": {},
     "output_type": "execute_result"
    }
   ],
   "source": [
    "img "
   ]
  },
  {
   "cell_type": "code",
   "execution_count": 16,
   "id": "37772272",
   "metadata": {},
   "outputs": [],
   "source": [
    "import cv2\n",
    "\n",
    "cv2.imshow('frame', img)\n",
    "cv2.waitKey(0)\n",
    "cv2.destroyAllWindows()\n"
   ]
  },
  {
   "cell_type": "code",
   "execution_count": null,
   "id": "2a07abad",
   "metadata": {},
   "outputs": [],
   "source": []
  }
 ],
 "metadata": {
  "kernelspec": {
   "display_name": "Python 3 (ipykernel)",
   "language": "python",
   "name": "python3"
  },
  "language_info": {
   "codemirror_mode": {
    "name": "ipython",
    "version": 3
   },
   "file_extension": ".py",
   "mimetype": "text/x-python",
   "name": "python",
   "nbconvert_exporter": "python",
   "pygments_lexer": "ipython3",
   "version": "3.10.9"
  }
 },
 "nbformat": 4,
 "nbformat_minor": 5
}
