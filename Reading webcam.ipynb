{
 "cells": [
  {
   "cell_type": "markdown",
   "id": "fc75bac2",
   "metadata": {},
   "source": [
    "# Reading webcam"
   ]
  },
  {
   "cell_type": "code",
   "execution_count": null,
   "id": "a9110930",
   "metadata": {},
   "outputs": [],
   "source": [
    "# show backend camera video"
   ]
  },
  {
   "cell_type": "code",
   "execution_count": 5,
   "id": "865bf3a0",
   "metadata": {},
   "outputs": [],
   "source": [
    "import cv2\n",
    "\n",
    "vid = cv2.VideoCapture(0)\n",
    "\n",
    "frameWidth = 640\n",
    "frameHeight = 480\n",
    "\n",
    "vid.set(3, frameWidth)\n",
    "vid.set(4, frameHeight)\n",
    "\n",
    "while True:\n",
    "    success, img = vid.read()\n",
    "    cv2.imshow('frame', img)\n",
    "    if cv2.waitKey(1) & 0xFF == ord('q'):\n",
    "        break\n",
    "\n",
    "vid.release()\n",
    "cv2.destroyAllWindows()\n"
   ]
  },
  {
   "cell_type": "code",
   "execution_count": null,
   "id": "931b9e40",
   "metadata": {},
   "outputs": [],
   "source": [
    "# show front camera video"
   ]
  },
  {
   "cell_type": "code",
   "execution_count": 4,
   "id": "8548379a",
   "metadata": {},
   "outputs": [],
   "source": [
    "import cv2\n",
    "\n",
    "# Try using cv2.VideoCapture(1) instead of cv2.VideoCapture(0)\n",
    "vid = cv2.VideoCapture(1)\n",
    "\n",
    "frameWidth = 640\n",
    "frameHeight = 480\n",
    "\n",
    "vid.set(3, frameWidth)\n",
    "vid.set(4, frameHeight)\n",
    "\n",
    "while True:\n",
    "    success, img = vid.read()\n",
    "    cv2.imshow('frame', img)\n",
    "    if cv2.waitKey(1) & 0xFF == ord('q'):\n",
    "        break\n",
    "\n",
    "vid.release()\n",
    "cv2.destroyAllWindows()\n"
   ]
  },
  {
   "cell_type": "code",
   "execution_count": null,
   "id": "906f18e7",
   "metadata": {},
   "outputs": [],
   "source": []
  }
 ],
 "metadata": {
  "kernelspec": {
   "display_name": "Python 3 (ipykernel)",
   "language": "python",
   "name": "python3"
  },
  "language_info": {
   "codemirror_mode": {
    "name": "ipython",
    "version": 3
   },
   "file_extension": ".py",
   "mimetype": "text/x-python",
   "name": "python",
   "nbconvert_exporter": "python",
   "pygments_lexer": "ipython3",
   "version": "3.10.9"
  }
 },
 "nbformat": 4,
 "nbformat_minor": 5
}
