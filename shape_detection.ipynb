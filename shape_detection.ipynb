{
 "cells": [
  {
   "cell_type": "markdown",
   "id": "950206f9",
   "metadata": {},
   "source": [
    "# Shape Detection"
   ]
  },
  {
   "cell_type": "code",
   "execution_count": 1,
   "id": "e5c3b37d",
   "metadata": {},
   "outputs": [],
   "source": [
    "# this code is used to detect the shapes of images\n",
    "import cv2\n",
    "\n",
    "img = cv2.imread('shapes.jpg')\n",
    "\n",
    "cv2.imshow('shapes', img)\n",
    "cv2.waitKey(0)\n",
    "cv2.destroyAllWindows()\n",
    "\n",
    "gray = cv2.cvtColor(img, cv2.COLOR_BGR2GRAY)\n",
    "\n",
    "# Corrected function name: cv2.Canny\n",
    "imgCanny = cv2.Canny(gray, 100, 100)\n",
    "\n",
    "contours, hierarchy = cv2.findContours(imgCanny, cv2.RETR_EXTERNAL, cv2.CHAIN_APPROX_NONE)\n",
    "\n",
    "for cnt in contours:\n",
    "    blueColor = (255, 0, 0)\n",
    "    contourIndex = -1\n",
    "    thickness = 3\n",
    "    cv2.drawContours(img, [cnt], contourIndex, blueColor, thickness)\n",
    "\n",
    "cv2.imshow('shapes', img)\n",
    "cv2.waitKey(0)\n",
    "cv2.destroyAllWindows()\n",
    "#"
   ]
  },
  {
   "cell_type": "code",
   "execution_count": null,
   "id": "150eb669",
   "metadata": {},
   "outputs": [],
   "source": []
  }
 ],
 "metadata": {
  "kernelspec": {
   "display_name": "Python 3 (ipykernel)",
   "language": "python",
   "name": "python3"
  },
  "language_info": {
   "codemirror_mode": {
    "name": "ipython",
    "version": 3
   },
   "file_extension": ".py",
   "mimetype": "text/x-python",
   "name": "python",
   "nbconvert_exporter": "python",
   "pygments_lexer": "ipython3",
   "version": "3.10.9"
  }
 },
 "nbformat": 4,
 "nbformat_minor": 5
}
