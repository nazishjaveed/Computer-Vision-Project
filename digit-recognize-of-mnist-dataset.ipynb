{
 "cells": [
  {
   "cell_type": "markdown",
   "id": "8dac5908",
   "metadata": {
    "papermill": {
     "duration": 0.012172,
     "end_time": "2024-02-08T19:35:01.158569",
     "exception": false,
     "start_time": "2024-02-08T19:35:01.146397",
     "status": "completed"
    },
    "tags": []
   },
   "source": []
  },
  {
   "cell_type": "markdown",
   "id": "4fb635e6",
   "metadata": {
    "papermill": {
     "duration": 0.011441,
     "end_time": "2024-02-08T19:35:01.181774",
     "exception": false,
     "start_time": "2024-02-08T19:35:01.170333",
     "status": "completed"
    },
    "tags": []
   },
   "source": [
    "# Title:Digit recognize of MNIST dataset"
   ]
  },
  {
   "cell_type": "markdown",
   "id": "9b4a65c0",
   "metadata": {
    "papermill": {
     "duration": 0.011904,
     "end_time": "2024-02-08T19:35:01.205327",
     "exception": false,
     "start_time": "2024-02-08T19:35:01.193423",
     "status": "completed"
    },
    "tags": []
   },
   "source": [
    "## Author:Nazish javeed\n",
    "## Submission date:5-feb-2024\n",
    "## Email:Nazishjaveed164@gmail.com\n",
    "## Linkedin:https://www.linkedin.com/feed/\n",
    "## Kaggle:https://www.kaggle.com/\n",
    "## Github:https://github.com/"
   ]
  },
  {
   "cell_type": "markdown",
   "id": "7f22a64c",
   "metadata": {
    "papermill": {
     "duration": 0.012539,
     "end_time": "2024-02-08T19:35:01.229808",
     "exception": false,
     "start_time": "2024-02-08T19:35:01.217269",
     "status": "completed"
    },
    "tags": []
   },
   "source": [
    "# Import the library"
   ]
  },
  {
   "cell_type": "code",
   "execution_count": 1,
   "id": "ad99bed4",
   "metadata": {
    "execution": {
     "iopub.execute_input": "2024-02-08T19:35:01.255526Z",
     "iopub.status.busy": "2024-02-08T19:35:01.255112Z",
     "iopub.status.idle": "2024-02-08T19:35:08.525528Z",
     "shell.execute_reply": "2024-02-08T19:35:08.524564Z"
    },
    "papermill": {
     "duration": 7.286316,
     "end_time": "2024-02-08T19:35:08.528168",
     "exception": false,
     "start_time": "2024-02-08T19:35:01.241852",
     "status": "completed"
    },
    "tags": []
   },
   "outputs": [],
   "source": [
    "import torch\n",
    "import torchvision\n",
    "import torchvision.transforms as transforms\n",
    "import torch.optim as optim\n",
    "import torch.nn as nn"
   ]
  },
  {
   "cell_type": "markdown",
   "id": "58215a07",
   "metadata": {
    "papermill": {
     "duration": 0.011908,
     "end_time": "2024-02-08T19:35:08.552453",
     "exception": false,
     "start_time": "2024-02-08T19:35:08.540545",
     "status": "completed"
    },
    "tags": []
   },
   "source": [
    "# Check GPU are available or not"
   ]
  },
  {
   "cell_type": "code",
   "execution_count": 2,
   "id": "7479a18e",
   "metadata": {
    "execution": {
     "iopub.execute_input": "2024-02-08T19:35:08.577430Z",
     "iopub.status.busy": "2024-02-08T19:35:08.576935Z",
     "iopub.status.idle": "2024-02-08T19:35:08.638059Z",
     "shell.execute_reply": "2024-02-08T19:35:08.636891Z"
    },
    "id": "w9TQAMuO8iLf",
    "outputId": "14f7b90c-72c8-42bb-d73f-a0bd9415f6cb",
    "papermill": {
     "duration": 0.075562,
     "end_time": "2024-02-08T19:35:08.640239",
     "exception": false,
     "start_time": "2024-02-08T19:35:08.564677",
     "status": "completed"
    },
    "tags": []
   },
   "outputs": [
    {
     "name": "stdout",
     "output_type": "stream",
     "text": [
      " GPU available : True\n"
     ]
    }
   ],
   "source": [
    "print(\" GPU available : {}\". format (torch.cuda.is_available ()))"
   ]
  },
  {
   "cell_type": "markdown",
   "id": "f582e604",
   "metadata": {
    "papermill": {
     "duration": 0.011619,
     "end_time": "2024-02-08T19:35:08.664210",
     "exception": false,
     "start_time": "2024-02-08T19:35:08.652591",
     "status": "completed"
    },
    "tags": []
   },
   "source": [
    " # If CUDA are not available used CPU"
   ]
  },
  {
   "cell_type": "code",
   "execution_count": 3,
   "id": "84094fcf",
   "metadata": {
    "execution": {
     "iopub.execute_input": "2024-02-08T19:35:08.690972Z",
     "iopub.status.busy": "2024-02-08T19:35:08.690221Z",
     "iopub.status.idle": "2024-02-08T19:35:08.695492Z",
     "shell.execute_reply": "2024-02-08T19:35:08.694367Z"
    },
    "id": "QAMcyxXj9GEN",
    "papermill": {
     "duration": 0.021318,
     "end_time": "2024-02-08T19:35:08.697802",
     "exception": false,
     "start_time": "2024-02-08T19:35:08.676484",
     "status": "completed"
    },
    "tags": []
   },
   "outputs": [],
   "source": [
    "if torch.cuda.is_available():\n",
    "  device = 'cuda'\n",
    "else:\n",
    "    device = 'cpu'"
   ]
  },
  {
   "cell_type": "markdown",
   "id": "f45b10a7",
   "metadata": {
    "papermill": {
     "duration": 0.012007,
     "end_time": "2024-02-08T19:35:08.722337",
     "exception": false,
     "start_time": "2024-02-08T19:35:08.710330",
     "status": "completed"
    },
    "tags": []
   },
   "source": [
    "# Use transform word to normalize the data"
   ]
  },
  {
   "cell_type": "code",
   "execution_count": 4,
   "id": "a2fe96a1",
   "metadata": {
    "execution": {
     "iopub.execute_input": "2024-02-08T19:35:08.748919Z",
     "iopub.status.busy": "2024-02-08T19:35:08.748149Z",
     "iopub.status.idle": "2024-02-08T19:35:08.753614Z",
     "shell.execute_reply": "2024-02-08T19:35:08.752554Z"
    },
    "id": "ja6EdxEa9fYc",
    "papermill": {
     "duration": 0.021395,
     "end_time": "2024-02-08T19:35:08.756052",
     "exception": false,
     "start_time": "2024-02-08T19:35:08.734657",
     "status": "completed"
    },
    "tags": []
   },
   "outputs": [],
   "source": [
    "transform = transforms.Compose([transforms.ToTensor(), transforms.Normalize((0.5,),(0.5,))])"
   ]
  },
  {
   "cell_type": "markdown",
   "id": "0a3748d0",
   "metadata": {
    "papermill": {
     "duration": 0.011783,
     "end_time": "2024-02-08T19:35:08.779978",
     "exception": false,
     "start_time": "2024-02-08T19:35:08.768195",
     "status": "completed"
    },
    "tags": []
   },
   "source": [
    "# Split the mnist dataset in train and test format"
   ]
  },
  {
   "cell_type": "code",
   "execution_count": 5,
   "id": "79ca7879",
   "metadata": {
    "execution": {
     "iopub.execute_input": "2024-02-08T19:35:08.806582Z",
     "iopub.status.busy": "2024-02-08T19:35:08.805648Z",
     "iopub.status.idle": "2024-02-08T19:35:09.993075Z",
     "shell.execute_reply": "2024-02-08T19:35:09.991906Z"
    },
    "id": "TphRZFsGMVhP",
    "papermill": {
     "duration": 1.203431,
     "end_time": "2024-02-08T19:35:09.995773",
     "exception": false,
     "start_time": "2024-02-08T19:35:08.792342",
     "status": "completed"
    },
    "tags": []
   },
   "outputs": [
    {
     "name": "stdout",
     "output_type": "stream",
     "text": [
      "Downloading http://yann.lecun.com/exdb/mnist/train-images-idx3-ubyte.gz\n",
      "Downloading http://yann.lecun.com/exdb/mnist/train-images-idx3-ubyte.gz to mnist/MNIST/raw/train-images-idx3-ubyte.gz\n"
     ]
    },
    {
     "name": "stderr",
     "output_type": "stream",
     "text": [
      "100%|██████████| 9912422/9912422 [00:00<00:00, 116654633.12it/s]\n"
     ]
    },
    {
     "name": "stdout",
     "output_type": "stream",
     "text": [
      "Extracting mnist/MNIST/raw/train-images-idx3-ubyte.gz to mnist/MNIST/raw\n",
      "\n",
      "Downloading http://yann.lecun.com/exdb/mnist/train-labels-idx1-ubyte.gz\n",
      "Downloading http://yann.lecun.com/exdb/mnist/train-labels-idx1-ubyte.gz to mnist/MNIST/raw/train-labels-idx1-ubyte.gz\n"
     ]
    },
    {
     "name": "stderr",
     "output_type": "stream",
     "text": [
      "100%|██████████| 28881/28881 [00:00<00:00, 38937863.65it/s]\n"
     ]
    },
    {
     "name": "stdout",
     "output_type": "stream",
     "text": [
      "Extracting mnist/MNIST/raw/train-labels-idx1-ubyte.gz to mnist/MNIST/raw\n",
      "\n",
      "Downloading http://yann.lecun.com/exdb/mnist/t10k-images-idx3-ubyte.gz\n",
      "Downloading http://yann.lecun.com/exdb/mnist/t10k-images-idx3-ubyte.gz to mnist/MNIST/raw/t10k-images-idx3-ubyte.gz\n"
     ]
    },
    {
     "name": "stderr",
     "output_type": "stream",
     "text": [
      "100%|██████████| 1648877/1648877 [00:00<00:00, 27778792.02it/s]\n"
     ]
    },
    {
     "name": "stdout",
     "output_type": "stream",
     "text": [
      "Extracting mnist/MNIST/raw/t10k-images-idx3-ubyte.gz to mnist/MNIST/raw\n",
      "\n",
      "Downloading http://yann.lecun.com/exdb/mnist/t10k-labels-idx1-ubyte.gz\n",
      "Downloading http://yann.lecun.com/exdb/mnist/t10k-labels-idx1-ubyte.gz to mnist/MNIST/raw/t10k-labels-idx1-ubyte.gz\n"
     ]
    },
    {
     "name": "stderr",
     "output_type": "stream",
     "text": [
      "100%|██████████| 4542/4542 [00:00<00:00, 11400675.50it/s]\n"
     ]
    },
    {
     "name": "stdout",
     "output_type": "stream",
     "text": [
      "Extracting mnist/MNIST/raw/t10k-labels-idx1-ubyte.gz to mnist/MNIST/raw\n",
      "\n"
     ]
    }
   ],
   "source": [
    "trainset = torchvision.datasets.MNIST('mnist',\n",
    "                                      train = True,\n",
    "                                      download = True,\n",
    "                                      transform = transform)"
   ]
  },
  {
   "cell_type": "markdown",
   "id": "e686c38c",
   "metadata": {
    "papermill": {
     "duration": 0.013431,
     "end_time": "2024-02-08T19:35:10.024508",
     "exception": false,
     "start_time": "2024-02-08T19:35:10.011077",
     "status": "completed"
    },
    "tags": []
   },
   "source": []
  },
  {
   "cell_type": "code",
   "execution_count": 6,
   "id": "48192775",
   "metadata": {
    "execution": {
     "iopub.execute_input": "2024-02-08T19:35:10.053379Z",
     "iopub.status.busy": "2024-02-08T19:35:10.052970Z",
     "iopub.status.idle": "2024-02-08T19:35:10.068748Z",
     "shell.execute_reply": "2024-02-08T19:35:10.067885Z"
    },
    "id": "pZvcY7aRN8jo",
    "papermill": {
     "duration": 0.032998,
     "end_time": "2024-02-08T19:35:10.071217",
     "exception": false,
     "start_time": "2024-02-08T19:35:10.038219",
     "status": "completed"
    },
    "tags": []
   },
   "outputs": [],
   "source": [
    "testset = torchvision.datasets.MNIST('mnist',\n",
    "                                     train = False,\n",
    "                                     download = True,\n",
    "                                     transform = transform)"
   ]
  },
  {
   "cell_type": "markdown",
   "id": "9880950c",
   "metadata": {
    "papermill": {
     "duration": 0.013736,
     "end_time": "2024-02-08T19:35:10.100187",
     "exception": false,
     "start_time": "2024-02-08T19:35:10.086451",
     "status": "completed"
    },
    "tags": []
   },
   "source": [
    "# Check the pixels of train dataset"
   ]
  },
  {
   "cell_type": "code",
   "execution_count": 7,
   "id": "c9b9f3e0",
   "metadata": {
    "execution": {
     "iopub.execute_input": "2024-02-08T19:35:10.129371Z",
     "iopub.status.busy": "2024-02-08T19:35:10.129000Z",
     "iopub.status.idle": "2024-02-08T19:35:10.136287Z",
     "shell.execute_reply": "2024-02-08T19:35:10.135314Z"
    },
    "id": "7v3WDdOGSwEM",
    "outputId": "5c5bc3af-6b0f-4aa0-f69e-0ab133119219",
    "papermill": {
     "duration": 0.024274,
     "end_time": "2024-02-08T19:35:10.138398",
     "exception": false,
     "start_time": "2024-02-08T19:35:10.114124",
     "status": "completed"
    },
    "tags": []
   },
   "outputs": [
    {
     "data": {
      "text/plain": [
       "torch.Size([60000, 28, 28])"
      ]
     },
     "execution_count": 7,
     "metadata": {},
     "output_type": "execute_result"
    }
   ],
   "source": [
    "trainset.data.shape"
   ]
  },
  {
   "cell_type": "markdown",
   "id": "7c72f154",
   "metadata": {
    "papermill": {
     "duration": 0.01451,
     "end_time": "2024-02-08T19:35:10.166774",
     "exception": false,
     "start_time": "2024-02-08T19:35:10.152264",
     "status": "completed"
    },
    "tags": []
   },
   "source": [
    "# Check the pixels of test dataset"
   ]
  },
  {
   "cell_type": "code",
   "execution_count": 8,
   "id": "ebfe96f4",
   "metadata": {
    "execution": {
     "iopub.execute_input": "2024-02-08T19:35:10.197033Z",
     "iopub.status.busy": "2024-02-08T19:35:10.196237Z",
     "iopub.status.idle": "2024-02-08T19:35:10.202836Z",
     "shell.execute_reply": "2024-02-08T19:35:10.201811Z"
    },
    "id": "eMisCbrxS-iI",
    "outputId": "57f29f40-5611-4db6-bc83-06dd5414b8fb",
    "papermill": {
     "duration": 0.024176,
     "end_time": "2024-02-08T19:35:10.205228",
     "exception": false,
     "start_time": "2024-02-08T19:35:10.181052",
     "status": "completed"
    },
    "tags": []
   },
   "outputs": [
    {
     "data": {
      "text/plain": [
       "torch.Size([10000, 28, 28])"
      ]
     },
     "execution_count": 8,
     "metadata": {},
     "output_type": "execute_result"
    }
   ],
   "source": [
    "testset.data.shape"
   ]
  },
  {
   "cell_type": "markdown",
   "id": "c895bdde",
   "metadata": {
    "papermill": {
     "duration": 0.013762,
     "end_time": "2024-02-08T19:35:10.233254",
     "exception": false,
     "start_time": "2024-02-08T19:35:10.219492",
     "status": "completed"
    },
    "tags": []
   },
   "source": [
    "# Check the size of image"
   ]
  },
  {
   "cell_type": "code",
   "execution_count": 9,
   "id": "c91c3493",
   "metadata": {
    "execution": {
     "iopub.execute_input": "2024-02-08T19:35:10.263165Z",
     "iopub.status.busy": "2024-02-08T19:35:10.262774Z",
     "iopub.status.idle": "2024-02-08T19:35:10.270245Z",
     "shell.execute_reply": "2024-02-08T19:35:10.269218Z"
    },
    "id": "kONalsqhTL2Q",
    "outputId": "5a6a77c6-b6f0-45ba-f969-3348db27c8fd",
    "papermill": {
     "duration": 0.024842,
     "end_time": "2024-02-08T19:35:10.272482",
     "exception": false,
     "start_time": "2024-02-08T19:35:10.247640",
     "status": "completed"
    },
    "tags": []
   },
   "outputs": [
    {
     "data": {
      "text/plain": [
       "torch.Size([10000, 28, 28])"
      ]
     },
     "execution_count": 9,
     "metadata": {},
     "output_type": "execute_result"
    }
   ],
   "source": [
    "torch.Size([60000, 28, 28])\n",
    "torch.Size([10000, 28, 28])"
   ]
  },
  {
   "cell_type": "markdown",
   "id": "5eab5bde",
   "metadata": {
    "papermill": {
     "duration": 0.014326,
     "end_time": "2024-02-08T19:35:10.300783",
     "exception": false,
     "start_time": "2024-02-08T19:35:10.286457",
     "status": "completed"
    },
    "tags": []
   },
   "source": []
  },
  {
   "cell_type": "code",
   "execution_count": 10,
   "id": "1b674f83",
   "metadata": {
    "execution": {
     "iopub.execute_input": "2024-02-08T19:35:10.331987Z",
     "iopub.status.busy": "2024-02-08T19:35:10.331201Z",
     "iopub.status.idle": "2024-02-08T19:35:10.360224Z",
     "shell.execute_reply": "2024-02-08T19:35:10.359178Z"
    },
    "id": "a1eveFkzTdzT",
    "outputId": "2f784163-c390-492d-ea41-a7b380a1766b",
    "papermill": {
     "duration": 0.04742,
     "end_time": "2024-02-08T19:35:10.362754",
     "exception": false,
     "start_time": "2024-02-08T19:35:10.315334",
     "status": "completed"
    },
    "tags": []
   },
   "outputs": [
    {
     "name": "stdout",
     "output_type": "stream",
     "text": [
      "torch.Size([28, 28])\n",
      "tensor([[  0,   0,   0,   0,   0,   0,   0,   0,   0,   0,   0,   0,   0,   0,\n",
      "           0,   0,   0,   0,   0,   0,   0,   0,   0,   0,   0,   0,   0,   0],\n",
      "        [  0,   0,   0,   0,   0,   0,   0,   0,   0,   0,   0,   0,   0,   0,\n",
      "           0,   0,   0,   0,   0,   0,   0,   0,   0,   0,   0,   0,   0,   0],\n",
      "        [  0,   0,   0,   0,   0,   0,   0,   0,   0,   0,   0,   0,   0,   0,\n",
      "           0,   0,   0,   0,   0,   0,   0,   0,   0,   0,   0,   0,   0,   0],\n",
      "        [  0,   0,   0,   0,   0,   0,   0,   0,   0,   0,   0,   0,   0,   0,\n",
      "           0,   0,   0,   0,   0,   0,   0,   0,   0,   0,   0,   0,   0,   0],\n",
      "        [  0,   0,   0,   0,   0,   0,   0,   0,   0,   0,   0,   0,   0,   0,\n",
      "           0,   0,   0,   0,   0,   0,   0,   0,   0,   0,   0,   0,   0,   0],\n",
      "        [  0,   0,   0,   0,   0,   0,   0,   0,   0,   0,   0,   0,   3,  18,\n",
      "          18,  18, 126, 136, 175,  26, 166, 255, 247, 127,   0,   0,   0,   0],\n",
      "        [  0,   0,   0,   0,   0,   0,   0,   0,  30,  36,  94, 154, 170, 253,\n",
      "         253, 253, 253, 253, 225, 172, 253, 242, 195,  64,   0,   0,   0,   0],\n",
      "        [  0,   0,   0,   0,   0,   0,   0,  49, 238, 253, 253, 253, 253, 253,\n",
      "         253, 253, 253, 251,  93,  82,  82,  56,  39,   0,   0,   0,   0,   0],\n",
      "        [  0,   0,   0,   0,   0,   0,   0,  18, 219, 253, 253, 253, 253, 253,\n",
      "         198, 182, 247, 241,   0,   0,   0,   0,   0,   0,   0,   0,   0,   0],\n",
      "        [  0,   0,   0,   0,   0,   0,   0,   0,  80, 156, 107, 253, 253, 205,\n",
      "          11,   0,  43, 154,   0,   0,   0,   0,   0,   0,   0,   0,   0,   0],\n",
      "        [  0,   0,   0,   0,   0,   0,   0,   0,   0,  14,   1, 154, 253,  90,\n",
      "           0,   0,   0,   0,   0,   0,   0,   0,   0,   0,   0,   0,   0,   0],\n",
      "        [  0,   0,   0,   0,   0,   0,   0,   0,   0,   0,   0, 139, 253, 190,\n",
      "           2,   0,   0,   0,   0,   0,   0,   0,   0,   0,   0,   0,   0,   0],\n",
      "        [  0,   0,   0,   0,   0,   0,   0,   0,   0,   0,   0,  11, 190, 253,\n",
      "          70,   0,   0,   0,   0,   0,   0,   0,   0,   0,   0,   0,   0,   0],\n",
      "        [  0,   0,   0,   0,   0,   0,   0,   0,   0,   0,   0,   0,  35, 241,\n",
      "         225, 160, 108,   1,   0,   0,   0,   0,   0,   0,   0,   0,   0,   0],\n",
      "        [  0,   0,   0,   0,   0,   0,   0,   0,   0,   0,   0,   0,   0,  81,\n",
      "         240, 253, 253, 119,  25,   0,   0,   0,   0,   0,   0,   0,   0,   0],\n",
      "        [  0,   0,   0,   0,   0,   0,   0,   0,   0,   0,   0,   0,   0,   0,\n",
      "          45, 186, 253, 253, 150,  27,   0,   0,   0,   0,   0,   0,   0,   0],\n",
      "        [  0,   0,   0,   0,   0,   0,   0,   0,   0,   0,   0,   0,   0,   0,\n",
      "           0,  16,  93, 252, 253, 187,   0,   0,   0,   0,   0,   0,   0,   0],\n",
      "        [  0,   0,   0,   0,   0,   0,   0,   0,   0,   0,   0,   0,   0,   0,\n",
      "           0,   0,   0, 249, 253, 249,  64,   0,   0,   0,   0,   0,   0,   0],\n",
      "        [  0,   0,   0,   0,   0,   0,   0,   0,   0,   0,   0,   0,   0,   0,\n",
      "          46, 130, 183, 253, 253, 207,   2,   0,   0,   0,   0,   0,   0,   0],\n",
      "        [  0,   0,   0,   0,   0,   0,   0,   0,   0,   0,   0,   0,  39, 148,\n",
      "         229, 253, 253, 253, 250, 182,   0,   0,   0,   0,   0,   0,   0,   0],\n",
      "        [  0,   0,   0,   0,   0,   0,   0,   0,   0,   0,  24, 114, 221, 253,\n",
      "         253, 253, 253, 201,  78,   0,   0,   0,   0,   0,   0,   0,   0,   0],\n",
      "        [  0,   0,   0,   0,   0,   0,   0,   0,  23,  66, 213, 253, 253, 253,\n",
      "         253, 198,  81,   2,   0,   0,   0,   0,   0,   0,   0,   0,   0,   0],\n",
      "        [  0,   0,   0,   0,   0,   0,  18, 171, 219, 253, 253, 253, 253, 195,\n",
      "          80,   9,   0,   0,   0,   0,   0,   0,   0,   0,   0,   0,   0,   0],\n",
      "        [  0,   0,   0,   0,  55, 172, 226, 253, 253, 253, 253, 244, 133,  11,\n",
      "           0,   0,   0,   0,   0,   0,   0,   0,   0,   0,   0,   0,   0,   0],\n",
      "        [  0,   0,   0,   0, 136, 253, 253, 253, 212, 135, 132,  16,   0,   0,\n",
      "           0,   0,   0,   0,   0,   0,   0,   0,   0,   0,   0,   0,   0,   0],\n",
      "        [  0,   0,   0,   0,   0,   0,   0,   0,   0,   0,   0,   0,   0,   0,\n",
      "           0,   0,   0,   0,   0,   0,   0,   0,   0,   0,   0,   0,   0,   0],\n",
      "        [  0,   0,   0,   0,   0,   0,   0,   0,   0,   0,   0,   0,   0,   0,\n",
      "           0,   0,   0,   0,   0,   0,   0,   0,   0,   0,   0,   0,   0,   0],\n",
      "        [  0,   0,   0,   0,   0,   0,   0,   0,   0,   0,   0,   0,   0,   0,\n",
      "           0,   0,   0,   0,   0,   0,   0,   0,   0,   0,   0,   0,   0,   0]],\n",
      "       dtype=torch.uint8)\n"
     ]
    }
   ],
   "source": [
    "print(trainset.data[0].shape)\n",
    "print(trainset.data[0])"
   ]
  },
  {
   "cell_type": "code",
   "execution_count": 11,
   "id": "864ee2b0",
   "metadata": {
    "execution": {
     "iopub.execute_input": "2024-02-08T19:35:10.392425Z",
     "iopub.status.busy": "2024-02-08T19:35:10.392067Z",
     "iopub.status.idle": "2024-02-08T19:35:10.569559Z",
     "shell.execute_reply": "2024-02-08T19:35:10.568537Z"
    },
    "id": "vJonCWu2VPhS",
    "papermill": {
     "duration": 0.195243,
     "end_time": "2024-02-08T19:35:10.572257",
     "exception": false,
     "start_time": "2024-02-08T19:35:10.377014",
     "status": "completed"
    },
    "tags": []
   },
   "outputs": [],
   "source": [
    "import cv2\n",
    "import numpy as np\n",
    "import matplotlib.pyplot as plt"
   ]
  },
  {
   "cell_type": "code",
   "execution_count": 12,
   "id": "8b72ed6f",
   "metadata": {
    "execution": {
     "iopub.execute_input": "2024-02-08T19:35:10.603289Z",
     "iopub.status.busy": "2024-02-08T19:35:10.602887Z",
     "iopub.status.idle": "2024-02-08T19:35:10.609375Z",
     "shell.execute_reply": "2024-02-08T19:35:10.608412Z"
    },
    "id": "Ds2w9QuXajtv",
    "papermill": {
     "duration": 0.024579,
     "end_time": "2024-02-08T19:35:10.611671",
     "exception": false,
     "start_time": "2024-02-08T19:35:10.587092",
     "status": "completed"
    },
    "tags": []
   },
   "outputs": [],
   "source": [
    "def imgshow(title = \"\", image = None, size = 6 ):\n",
    "  w,h = image.shape[0], image.shape[1]\n",
    "  aspect_ratio = w/h\n",
    "  plt.figure(figsize = (size * aspect_ratio, size))\n",
    "  plt.imshow(cv2.cvtColor(image, cv2.COLOR_BGR2RGB))\n",
    "  plt.title(title)\n",
    "  plt.show()\n",
    "\n"
   ]
  },
  {
   "cell_type": "code",
   "execution_count": 13,
   "id": "5313d9e4",
   "metadata": {
    "execution": {
     "iopub.execute_input": "2024-02-08T19:35:10.642052Z",
     "iopub.status.busy": "2024-02-08T19:35:10.641604Z",
     "iopub.status.idle": "2024-02-08T19:35:10.911728Z",
     "shell.execute_reply": "2024-02-08T19:35:10.910579Z"
    },
    "id": "__jqy9TliVu4",
    "outputId": "533b0efb-5dc3-433a-cd31-d6e9f69f7991",
    "papermill": {
     "duration": 0.288401,
     "end_time": "2024-02-08T19:35:10.914365",
     "exception": false,
     "start_time": "2024-02-08T19:35:10.625964",
     "status": "completed"
    },
    "tags": []
   },
   "outputs": [
    {
     "data": {
      "image/png": "[encoded data removed]",
      "text/plain": [
       "<Figure size 600x600 with 1 Axes>"
      ]
     },
     "metadata": {},
     "output_type": "display_data"
    }
   ],
   "source": [
    " image = trainset.data[0].numpy()\n",
    " imgshow('MNIST Sample', image)"
   ]
  },
  {
   "cell_type": "code",
   "execution_count": 14,
   "id": "1e31d6ab",
   "metadata": {
    "execution": {
     "iopub.execute_input": "2024-02-08T19:35:10.946602Z",
     "iopub.status.busy": "2024-02-08T19:35:10.946188Z",
     "iopub.status.idle": "2024-02-08T19:35:12.810440Z",
     "shell.execute_reply": "2024-02-08T19:35:12.809239Z"
    },
    "id": "TZH2tdoFg72M",
    "outputId": "0c4f9b0f-2d78-483e-a2b6-5fe002cb4576",
    "papermill": {
     "duration": 1.883827,
     "end_time": "2024-02-08T19:35:12.813558",
     "exception": false,
     "start_time": "2024-02-08T19:35:10.929731",
     "status": "completed"
    },
    "tags": []
   },
   "outputs": [
    {
     "data": {
      "image/png": "[encoded data removed]",
      "text/plain": [
       "<Figure size 640x480 with 50 Axes>"
      ]
     },
     "metadata": {},
     "output_type": "display_data"
    }
   ],
   "source": [
    "figure  = plt.figure()\n",
    "num_of_imgs = 50\n",
    "\n",
    "for index in range (1, num_of_imgs +1):\n",
    "  plt.subplot(5,10, index)\n",
    "  plt.axis('off')\n",
    "  plt.imshow(trainset.data[index], cmap = 'gray_r')"
   ]
  },
  {
   "cell_type": "code",
   "execution_count": 15,
   "id": "db7d9f81",
   "metadata": {
    "execution": {
     "iopub.execute_input": "2024-02-08T19:35:12.848569Z",
     "iopub.status.busy": "2024-02-08T19:35:12.847874Z",
     "iopub.status.idle": "2024-02-08T19:35:12.854004Z",
     "shell.execute_reply": "2024-02-08T19:35:12.852944Z"
    },
    "id": "mSaVVYFfLWHh",
    "papermill": {
     "duration": 0.02607,
     "end_time": "2024-02-08T19:35:12.856220",
     "exception": false,
     "start_time": "2024-02-08T19:35:12.830150",
     "status": "completed"
    },
    "tags": []
   },
   "outputs": [],
   "source": [
    "trainloader = torch.utils.data.DataLoader(trainset, batch_size = 128, shuffle = True, num_workers = 0)\n",
    "testloader = torch.utils.data.DataLoader(testset, batch_size = 128, shuffle = True, num_workers = 0)"
   ]
  },
  {
   "cell_type": "code",
   "execution_count": 16,
   "id": "9bde307c",
   "metadata": {
    "execution": {
     "iopub.execute_input": "2024-02-08T19:35:12.889853Z",
     "iopub.status.busy": "2024-02-08T19:35:12.889087Z",
     "iopub.status.idle": "2024-02-08T19:35:12.895573Z",
     "shell.execute_reply": "2024-02-08T19:35:12.894438Z"
    },
    "id": "oqg3oxrZMB_D",
    "outputId": "be53ca07-d282-4f94-9a3c-ca449f616a72",
    "papermill": {
     "duration": 0.025761,
     "end_time": "2024-02-08T19:35:12.897952",
     "exception": false,
     "start_time": "2024-02-08T19:35:12.872191",
     "status": "completed"
    },
    "tags": []
   },
   "outputs": [
    {
     "data": {
      "text/plain": [
       "torch.utils.data.dataloader.DataLoader"
      ]
     },
     "execution_count": 16,
     "metadata": {},
     "output_type": "execute_result"
    }
   ],
   "source": [
    "type(trainloader)"
   ]
  },
  {
   "cell_type": "code",
   "execution_count": 17,
   "id": "a39e0447",
   "metadata": {
    "execution": {
     "iopub.execute_input": "2024-02-08T19:35:12.931993Z",
     "iopub.status.busy": "2024-02-08T19:35:12.931621Z",
     "iopub.status.idle": "2024-02-08T19:35:12.941338Z",
     "shell.execute_reply": "2024-02-08T19:35:12.940272Z"
    },
    "id": "gLLVNWqCMqP6",
    "papermill": {
     "duration": 0.029243,
     "end_time": "2024-02-08T19:35:12.943560",
     "exception": false,
     "start_time": "2024-02-08T19:35:12.914317",
     "status": "completed"
    },
    "tags": []
   },
   "outputs": [],
   "source": [
    "dataiter = iter(trainloader)\n",
    "\n",
    "\n"
   ]
  },
  {
   "cell_type": "code",
   "execution_count": 18,
   "id": "b1d3953e",
   "metadata": {
    "execution": {
     "iopub.execute_input": "2024-02-08T19:35:12.977939Z",
     "iopub.status.busy": "2024-02-08T19:35:12.977102Z",
     "iopub.status.idle": "2024-02-08T19:35:27.166169Z",
     "shell.execute_reply": "2024-02-08T19:35:27.164988Z"
    },
    "id": "rPiAq1GNWzrS",
    "outputId": "4c53d1c3-ac95-4063-b696-45fcbe5e42a3",
    "papermill": {
     "duration": 14.209094,
     "end_time": "2024-02-08T19:35:27.168760",
     "exception": false,
     "start_time": "2024-02-08T19:35:12.959666",
     "status": "completed"
    },
    "tags": []
   },
   "outputs": [
    {
     "name": "stdout",
     "output_type": "stream",
     "text": [
      "torch.Size([128, 1, 28, 28])\n",
      "torch.Size([128])\n",
      "torch.Size([128, 1, 28, 28])\n",
      "torch.Size([128])\n",
      "torch.Size([128, 1, 28, 28])\n",
      "torch.Size([128])\n",
      "torch.Size([128, 1, 28, 28])\n",
      "torch.Size([128])\n",
      "torch.Size([128, 1, 28, 28])\n",
      "torch.Size([128])\n",
      "torch.Size([128, 1, 28, 28])\n",
      "torch.Size([128])\n",
      "torch.Size([128, 1, 28, 28])\n",
      "torch.Size([128])\n",
      "torch.Size([128, 1, 28, 28])\n",
      "torch.Size([128])\n",
      "torch.Size([128, 1, 28, 28])\n",
      "torch.Size([128])\n",
      "torch.Size([128, 1, 28, 28])\n",
      "torch.Size([128])\n",
      "torch.Size([128, 1, 28, 28])\n",
      "torch.Size([128])\n",
      "torch.Size([128, 1, 28, 28])\n",
      "torch.Size([128])\n",
      "torch.Size([128, 1, 28, 28])\n",
      "torch.Size([128])\n",
      "torch.Size([128, 1, 28, 28])\n",
      "torch.Size([128])\n",
      "torch.Size([128, 1, 28, 28])\n",
      "torch.Size([128])\n",
      "torch.Size([128, 1, 28, 28])\n",
      "torch.Size([128])\n",
      "torch.Size([128, 1, 28, 28])\n",
      "torch.Size([128])\n",
      "torch.Size([128, 1, 28, 28])\n",
      "torch.Size([128])\n",
      "torch.Size([128, 1, 28, 28])\n",
      "torch.Size([128])\n",
      "torch.Size([128, 1, 28, 28])\n",
      "torch.Size([128])\n",
      "torch.Size([128, 1, 28, 28])\n",
      "torch.Size([128])\n",
      "torch.Size([128, 1, 28, 28])\n",
      "torch.Size([128])\n",
      "torch.Size([128, 1, 28, 28])\n",
      "torch.Size([128])\n",
      "torch.Size([128, 1, 28, 28])\n",
      "torch.Size([128])\n",
      "torch.Size([128, 1, 28, 28])\n",
      "torch.Size([128])\n",
      "torch.Size([128, 1, 28, 28])\n",
      "torch.Size([128])\n",
      "torch.Size([128, 1, 28, 28])\n",
      "torch.Size([128])\n",
      "torch.Size([128, 1, 28, 28])\n",
      "torch.Size([128])\n",
      "torch.Size([128, 1, 28, 28])\n",
      "torch.Size([128])\n",
      "torch.Size([128, 1, 28, 28])\n",
      "torch.Size([128])\n",
      "torch.Size([128, 1, 28, 28])\n",
      "torch.Size([128])\n",
      "torch.Size([128, 1, 28, 28])\n",
      "torch.Size([128])\n",
      "torch.Size([128, 1, 28, 28])\n",
      "torch.Size([128])\n",
      "torch.Size([128, 1, 28, 28])\n",
      "torch.Size([128])\n",
      "torch.Size([128, 1, 28, 28])\n",
      "torch.Size([128])\n",
      "torch.Size([128, 1, 28, 28])\n",
      "torch.Size([128])\n",
      "torch.Size([128, 1, 28, 28])\n",
      "torch.Size([128])\n",
      "torch.Size([128, 1, 28, 28])\n",
      "torch.Size([128])\n",
      "torch.Size([128, 1, 28, 28])\n",
      "torch.Size([128])\n",
      "torch.Size([128, 1, 28, 28])\n",
      "torch.Size([128])\n",
      "torch.Size([128, 1, 28, 28])\n",
      "torch.Size([128])\n",
      "torch.Size([128, 1, 28, 28])\n",
      "torch.Size([128])\n",
      "torch.Size([128, 1, 28, 28])\n",
      "torch.Size([128])\n",
      "torch.Size([128, 1, 28, 28])\n",
      "torch.Size([128])\n",
      "torch.Size([128, 1, 28, 28])\n",
      "torch.Size([128])\n",
      "torch.Size([128, 1, 28, 28])\n",
      "torch.Size([128])\n",
      "torch.Size([128, 1, 28, 28])\n",
      "torch.Size([128])\n",
      "torch.Size([128, 1, 28, 28])\n",
      "torch.Size([128])\n",
      "torch.Size([128, 1, 28, 28])\n",
      "torch.Size([128])\n",
      "torch.Size([128, 1, 28, 28])\n",
      "torch.Size([128])\n",
      "torch.Size([128, 1, 28, 28])\n",
      "torch.Size([128])\n",
      "torch.Size([128, 1, 28, 28])\n",
      "torch.Size([128])\n",
      "torch.Size([128, 1, 28, 28])\n",
      "torch.Size([128])\n",
      "torch.Size([128, 1, 28, 28])\n",
      "torch.Size([128])\n",
      "torch.Size([128, 1, 28, 28])\n",
      "torch.Size([128])\n",
      "torch.Size([128, 1, 28, 28])\n",
      "torch.Size([128])\n",
      "torch.Size([128, 1, 28, 28])\n",
      "torch.Size([128])\n",
      "torch.Size([128, 1, 28, 28])\n",
      "torch.Size([128])\n",
      "torch.Size([128, 1, 28, 28])\n",
      "torch.Size([128])\n",
      "torch.Size([128, 1, 28, 28])\n",
      "torch.Size([128])\n",
      "torch.Size([128, 1, 28, 28])\n",
      "torch.Size([128])\n",
      "torch.Size([128, 1, 28, 28])\n",
      "torch.Size([128])\n",
      "torch.Size([128, 1, 28, 28])\n",
      "torch.Size([128])\n",
      "torch.Size([128, 1, 28, 28])\n",
      "torch.Size([128])\n",
      "torch.Size([128, 1, 28, 28])\n",
      "torch.Size([128])\n",
      "torch.Size([128, 1, 28, 28])\n",
      "torch.Size([128])\n",
      "torch.Size([128, 1, 28, 28])\n",
      "torch.Size([128])\n",
      "torch.Size([128, 1, 28, 28])\n",
      "torch.Size([128])\n",
      "torch.Size([128, 1, 28, 28])\n",
      "torch.Size([128])\n",
      "torch.Size([128, 1, 28, 28])\n",
      "torch.Size([128])\n",
      "torch.Size([128, 1, 28, 28])\n",
      "torch.Size([128])\n",
      "torch.Size([128, 1, 28, 28])\n",
      "torch.Size([128])\n",
      "torch.Size([128, 1, 28, 28])\n",
      "torch.Size([128])\n",
      "torch.Size([128, 1, 28, 28])\n",
      "torch.Size([128])\n",
      "torch.Size([128, 1, 28, 28])\n",
      "torch.Size([128])\n",
      "torch.Size([128, 1, 28, 28])\n",
      "torch.Size([128])\n",
      "torch.Size([128, 1, 28, 28])\n",
      "torch.Size([128])\n",
      "torch.Size([128, 1, 28, 28])\n",
      "torch.Size([128])\n",
      "torch.Size([128, 1, 28, 28])\n",
      "torch.Size([128])\n",
      "torch.Size([128, 1, 28, 28])\n",
      "torch.Size([128])\n",
      "torch.Size([128, 1, 28, 28])\n",
      "torch.Size([128])\n",
      "torch.Size([128, 1, 28, 28])\n",
      "torch.Size([128])\n",
      "torch.Size([128, 1, 28, 28])\n",
      "torch.Size([128])\n",
      "torch.Size([128, 1, 28, 28])\n",
      "torch.Size([128])\n",
      "torch.Size([128, 1, 28, 28])\n",
      "torch.Size([128])\n",
      "torch.Size([128, 1, 28, 28])\n",
      "torch.Size([128])\n",
      "torch.Size([128, 1, 28, 28])\n",
      "torch.Size([128])\n",
      "torch.Size([128, 1, 28, 28])\n",
      "torch.Size([128])\n",
      "torch.Size([128, 1, 28, 28])\n",
      "torch.Size([128])\n",
      "torch.Size([128, 1, 28, 28])\n",
      "torch.Size([128])\n",
      "torch.Size([128, 1, 28, 28])\n",
      "torch.Size([128])\n",
      "torch.Size([128, 1, 28, 28])\n",
      "torch.Size([128])\n",
      "torch.Size([128, 1, 28, 28])\n",
      "torch.Size([128])\n",
      "torch.Size([128, 1, 28, 28])\n",
      "torch.Size([128])\n",
      "torch.Size([128, 1, 28, 28])\n",
      "torch.Size([128])\n",
      "torch.Size([128, 1, 28, 28])\n",
      "torch.Size([128])\n",
      "torch.Size([128, 1, 28, 28])\n",
      "torch.Size([128])\n",
      "torch.Size([128, 1, 28, 28])\n",
      "torch.Size([128])\n",
      "torch.Size([128, 1, 28, 28])\n",
      "torch.Size([128])\n",
      "torch.Size([128, 1, 28, 28])\n",
      "torch.Size([128])\n",
      "torch.Size([128, 1, 28, 28])\n",
      "torch.Size([128])\n",
      "torch.Size([128, 1, 28, 28])\n",
      "torch.Size([128])\n",
      "torch.Size([128, 1, 28, 28])\n",
      "torch.Size([128])\n",
      "torch.Size([128, 1, 28, 28])\n",
      "torch.Size([128])\n",
      "torch.Size([128, 1, 28, 28])\n",
      "torch.Size([128])\n",
      "torch.Size([128, 1, 28, 28])\n",
      "torch.Size([128])\n",
      "torch.Size([128, 1, 28, 28])\n",
      "torch.Size([128])\n",
      "torch.Size([128, 1, 28, 28])\n",
      "torch.Size([128])\n",
      "torch.Size([128, 1, 28, 28])\n",
      "torch.Size([128])\n",
      "torch.Size([128, 1, 28, 28])\n",
      "torch.Size([128])\n",
      "torch.Size([128, 1, 28, 28])\n",
      "torch.Size([128])\n",
      "torch.Size([128, 1, 28, 28])\n",
      "torch.Size([128])\n",
      "torch.Size([128, 1, 28, 28])\n",
      "torch.Size([128])\n",
      "torch.Size([128, 1, 28, 28])\n",
      "torch.Size([128])\n",
      "torch.Size([128, 1, 28, 28])\n",
      "torch.Size([128])\n",
      "torch.Size([128, 1, 28, 28])\n",
      "torch.Size([128])\n",
      "torch.Size([128, 1, 28, 28])\n",
      "torch.Size([128])\n",
      "torch.Size([128, 1, 28, 28])\n",
      "torch.Size([128])\n",
      "torch.Size([128, 1, 28, 28])\n",
      "torch.Size([128])\n",
      "torch.Size([128, 1, 28, 28])\n",
      "torch.Size([128])\n",
      "torch.Size([128, 1, 28, 28])\n",
      "torch.Size([128])\n",
      "torch.Size([128, 1, 28, 28])\n",
      "torch.Size([128])\n",
      "torch.Size([128, 1, 28, 28])\n",
      "torch.Size([128])\n",
      "torch.Size([128, 1, 28, 28])\n",
      "torch.Size([128])\n",
      "torch.Size([128, 1, 28, 28])\n",
      "torch.Size([128])\n",
      "torch.Size([128, 1, 28, 28])\n",
      "torch.Size([128])\n",
      "torch.Size([128, 1, 28, 28])\n",
      "torch.Size([128])\n",
      "torch.Size([128, 1, 28, 28])\n",
      "torch.Size([128])\n",
      "torch.Size([128, 1, 28, 28])\n",
      "torch.Size([128])\n",
      "torch.Size([128, 1, 28, 28])\n",
      "torch.Size([128])\n",
      "torch.Size([128, 1, 28, 28])\n",
      "torch.Size([128])\n",
      "torch.Size([128, 1, 28, 28])\n",
      "torch.Size([128])\n",
      "torch.Size([128, 1, 28, 28])\n",
      "torch.Size([128])\n",
      "torch.Size([128, 1, 28, 28])\n",
      "torch.Size([128])\n",
      "torch.Size([128, 1, 28, 28])\n",
      "torch.Size([128])\n",
      "torch.Size([128, 1, 28, 28])\n",
      "torch.Size([128])\n",
      "torch.Size([128, 1, 28, 28])\n",
      "torch.Size([128])\n",
      "torch.Size([128, 1, 28, 28])\n",
      "torch.Size([128])\n",
      "torch.Size([128, 1, 28, 28])\n",
      "torch.Size([128])\n",
      "torch.Size([128, 1, 28, 28])\n",
      "torch.Size([128])\n",
      "torch.Size([128, 1, 28, 28])\n",
      "torch.Size([128])\n",
      "torch.Size([128, 1, 28, 28])\n",
      "torch.Size([128])\n",
      "torch.Size([128, 1, 28, 28])\n",
      "torch.Size([128])\n",
      "torch.Size([128, 1, 28, 28])\n",
      "torch.Size([128])\n",
      "torch.Size([128, 1, 28, 28])\n",
      "torch.Size([128])\n",
      "torch.Size([128, 1, 28, 28])\n",
      "torch.Size([128])\n",
      "torch.Size([128, 1, 28, 28])\n",
      "torch.Size([128])\n",
      "torch.Size([128, 1, 28, 28])\n",
      "torch.Size([128])\n",
      "torch.Size([128, 1, 28, 28])\n",
      "torch.Size([128])\n",
      "torch.Size([128, 1, 28, 28])\n",
      "torch.Size([128])\n",
      "torch.Size([128, 1, 28, 28])\n",
      "torch.Size([128])\n",
      "torch.Size([128, 1, 28, 28])\n",
      "torch.Size([128])\n",
      "torch.Size([128, 1, 28, 28])\n",
      "torch.Size([128])\n",
      "torch.Size([128, 1, 28, 28])\n",
      "torch.Size([128])\n",
      "torch.Size([128, 1, 28, 28])\n",
      "torch.Size([128])\n",
      "torch.Size([128, 1, 28, 28])\n",
      "torch.Size([128])\n",
      "torch.Size([128, 1, 28, 28])\n",
      "torch.Size([128])\n",
      "torch.Size([128, 1, 28, 28])\n",
      "torch.Size([128])\n",
      "torch.Size([128, 1, 28, 28])\n",
      "torch.Size([128])\n",
      "torch.Size([128, 1, 28, 28])\n",
      "torch.Size([128])\n",
      "torch.Size([128, 1, 28, 28])\n",
      "torch.Size([128])\n",
      "torch.Size([128, 1, 28, 28])\n",
      "torch.Size([128])\n",
      "torch.Size([128, 1, 28, 28])\n",
      "torch.Size([128])\n",
      "torch.Size([128, 1, 28, 28])\n",
      "torch.Size([128])\n",
      "torch.Size([128, 1, 28, 28])\n",
      "torch.Size([128])\n",
      "torch.Size([128, 1, 28, 28])\n",
      "torch.Size([128])\n",
      "torch.Size([128, 1, 28, 28])\n",
      "torch.Size([128])\n",
      "torch.Size([128, 1, 28, 28])\n",
      "torch.Size([128])\n",
      "torch.Size([128, 1, 28, 28])\n",
      "torch.Size([128])\n",
      "torch.Size([128, 1, 28, 28])\n",
      "torch.Size([128])\n",
      "torch.Size([128, 1, 28, 28])\n",
      "torch.Size([128])\n",
      "torch.Size([128, 1, 28, 28])\n",
      "torch.Size([128])\n",
      "torch.Size([128, 1, 28, 28])\n",
      "torch.Size([128])\n",
      "torch.Size([128, 1, 28, 28])\n",
      "torch.Size([128])\n",
      "torch.Size([128, 1, 28, 28])\n",
      "torch.Size([128])\n",
      "torch.Size([128, 1, 28, 28])\n",
      "torch.Size([128])\n",
      "torch.Size([128, 1, 28, 28])\n",
      "torch.Size([128])\n",
      "torch.Size([128, 1, 28, 28])\n",
      "torch.Size([128])\n",
      "torch.Size([128, 1, 28, 28])\n",
      "torch.Size([128])\n",
      "torch.Size([128, 1, 28, 28])\n",
      "torch.Size([128])\n",
      "torch.Size([128, 1, 28, 28])\n",
      "torch.Size([128])\n",
      "torch.Size([128, 1, 28, 28])\n",
      "torch.Size([128])\n",
      "torch.Size([128, 1, 28, 28])\n",
      "torch.Size([128])\n",
      "torch.Size([128, 1, 28, 28])\n",
      "torch.Size([128])\n",
      "torch.Size([128, 1, 28, 28])\n",
      "torch.Size([128])\n",
      "torch.Size([128, 1, 28, 28])\n",
      "torch.Size([128])\n",
      "torch.Size([128, 1, 28, 28])\n",
      "torch.Size([128])\n",
      "torch.Size([128, 1, 28, 28])\n",
      "torch.Size([128])\n",
      "torch.Size([128, 1, 28, 28])\n",
      "torch.Size([128])\n",
      "torch.Size([128, 1, 28, 28])\n",
      "torch.Size([128])\n",
      "torch.Size([128, 1, 28, 28])\n",
      "torch.Size([128])\n",
      "torch.Size([128, 1, 28, 28])\n",
      "torch.Size([128])\n",
      "torch.Size([128, 1, 28, 28])\n",
      "torch.Size([128])\n",
      "torch.Size([128, 1, 28, 28])\n",
      "torch.Size([128])\n",
      "torch.Size([128, 1, 28, 28])\n",
      "torch.Size([128])\n",
      "torch.Size([128, 1, 28, 28])\n",
      "torch.Size([128])\n",
      "torch.Size([128, 1, 28, 28])\n",
      "torch.Size([128])\n",
      "torch.Size([128, 1, 28, 28])\n",
      "torch.Size([128])\n",
      "torch.Size([128, 1, 28, 28])\n",
      "torch.Size([128])\n",
      "torch.Size([128, 1, 28, 28])\n",
      "torch.Size([128])\n",
      "torch.Size([128, 1, 28, 28])\n",
      "torch.Size([128])\n",
      "torch.Size([128, 1, 28, 28])\n",
      "torch.Size([128])\n",
      "torch.Size([128, 1, 28, 28])\n",
      "torch.Size([128])\n",
      "torch.Size([128, 1, 28, 28])\n",
      "torch.Size([128])\n",
      "torch.Size([128, 1, 28, 28])\n",
      "torch.Size([128])\n",
      "torch.Size([128, 1, 28, 28])\n",
      "torch.Size([128])\n",
      "torch.Size([128, 1, 28, 28])\n",
      "torch.Size([128])\n",
      "torch.Size([128, 1, 28, 28])\n",
      "torch.Size([128])\n",
      "torch.Size([128, 1, 28, 28])\n",
      "torch.Size([128])\n",
      "torch.Size([128, 1, 28, 28])\n",
      "torch.Size([128])\n",
      "torch.Size([128, 1, 28, 28])\n",
      "torch.Size([128])\n",
      "torch.Size([128, 1, 28, 28])\n",
      "torch.Size([128])\n",
      "torch.Size([128, 1, 28, 28])\n",
      "torch.Size([128])\n",
      "torch.Size([128, 1, 28, 28])\n",
      "torch.Size([128])\n",
      "torch.Size([128, 1, 28, 28])\n",
      "torch.Size([128])\n",
      "torch.Size([128, 1, 28, 28])\n",
      "torch.Size([128])\n",
      "torch.Size([128, 1, 28, 28])\n",
      "torch.Size([128])\n",
      "torch.Size([128, 1, 28, 28])\n",
      "torch.Size([128])\n",
      "torch.Size([128, 1, 28, 28])\n",
      "torch.Size([128])\n",
      "torch.Size([128, 1, 28, 28])\n",
      "torch.Size([128])\n",
      "torch.Size([128, 1, 28, 28])\n",
      "torch.Size([128])\n",
      "torch.Size([128, 1, 28, 28])\n",
      "torch.Size([128])\n",
      "torch.Size([128, 1, 28, 28])\n",
      "torch.Size([128])\n",
      "torch.Size([128, 1, 28, 28])\n",
      "torch.Size([128])\n",
      "torch.Size([128, 1, 28, 28])\n",
      "torch.Size([128])\n",
      "torch.Size([128, 1, 28, 28])\n",
      "torch.Size([128])\n",
      "torch.Size([128, 1, 28, 28])\n",
      "torch.Size([128])\n",
      "torch.Size([128, 1, 28, 28])\n",
      "torch.Size([128])\n",
      "torch.Size([128, 1, 28, 28])\n",
      "torch.Size([128])\n",
      "torch.Size([128, 1, 28, 28])\n",
      "torch.Size([128])\n",
      "torch.Size([128, 1, 28, 28])\n",
      "torch.Size([128])\n",
      "torch.Size([128, 1, 28, 28])\n",
      "torch.Size([128])\n",
      "torch.Size([128, 1, 28, 28])\n",
      "torch.Size([128])\n",
      "torch.Size([128, 1, 28, 28])\n",
      "torch.Size([128])\n",
      "torch.Size([128, 1, 28, 28])\n",
      "torch.Size([128])\n",
      "torch.Size([128, 1, 28, 28])\n",
      "torch.Size([128])\n",
      "torch.Size([128, 1, 28, 28])\n",
      "torch.Size([128])\n",
      "torch.Size([128, 1, 28, 28])\n",
      "torch.Size([128])\n",
      "torch.Size([128, 1, 28, 28])\n",
      "torch.Size([128])\n",
      "torch.Size([128, 1, 28, 28])\n",
      "torch.Size([128])\n",
      "torch.Size([128, 1, 28, 28])\n",
      "torch.Size([128])\n",
      "torch.Size([128, 1, 28, 28])\n",
      "torch.Size([128])\n",
      "torch.Size([128, 1, 28, 28])\n",
      "torch.Size([128])\n",
      "torch.Size([128, 1, 28, 28])\n",
      "torch.Size([128])\n",
      "torch.Size([128, 1, 28, 28])\n",
      "torch.Size([128])\n",
      "torch.Size([128, 1, 28, 28])\n",
      "torch.Size([128])\n",
      "torch.Size([128, 1, 28, 28])\n",
      "torch.Size([128])\n",
      "torch.Size([128, 1, 28, 28])\n",
      "torch.Size([128])\n",
      "torch.Size([128, 1, 28, 28])\n",
      "torch.Size([128])\n",
      "torch.Size([128, 1, 28, 28])\n",
      "torch.Size([128])\n",
      "torch.Size([128, 1, 28, 28])\n",
      "torch.Size([128])\n",
      "torch.Size([128, 1, 28, 28])\n",
      "torch.Size([128])\n",
      "torch.Size([128, 1, 28, 28])\n",
      "torch.Size([128])\n",
      "torch.Size([128, 1, 28, 28])\n",
      "torch.Size([128])\n",
      "torch.Size([128, 1, 28, 28])\n",
      "torch.Size([128])\n",
      "torch.Size([128, 1, 28, 28])\n",
      "torch.Size([128])\n",
      "torch.Size([128, 1, 28, 28])\n",
      "torch.Size([128])\n",
      "torch.Size([128, 1, 28, 28])\n",
      "torch.Size([128])\n",
      "torch.Size([128, 1, 28, 28])\n",
      "torch.Size([128])\n",
      "torch.Size([128, 1, 28, 28])\n",
      "torch.Size([128])\n",
      "torch.Size([128, 1, 28, 28])\n",
      "torch.Size([128])\n",
      "torch.Size([128, 1, 28, 28])\n",
      "torch.Size([128])\n",
      "torch.Size([128, 1, 28, 28])\n",
      "torch.Size([128])\n",
      "torch.Size([128, 1, 28, 28])\n",
      "torch.Size([128])\n",
      "torch.Size([128, 1, 28, 28])\n",
      "torch.Size([128])\n",
      "torch.Size([128, 1, 28, 28])\n",
      "torch.Size([128])\n",
      "torch.Size([128, 1, 28, 28])\n",
      "torch.Size([128])\n",
      "torch.Size([128, 1, 28, 28])\n",
      "torch.Size([128])\n",
      "torch.Size([128, 1, 28, 28])\n",
      "torch.Size([128])\n",
      "torch.Size([128, 1, 28, 28])\n",
      "torch.Size([128])\n",
      "torch.Size([128, 1, 28, 28])\n",
      "torch.Size([128])\n",
      "torch.Size([128, 1, 28, 28])\n",
      "torch.Size([128])\n",
      "torch.Size([128, 1, 28, 28])\n",
      "torch.Size([128])\n",
      "torch.Size([128, 1, 28, 28])\n",
      "torch.Size([128])\n",
      "torch.Size([128, 1, 28, 28])\n",
      "torch.Size([128])\n",
      "torch.Size([128, 1, 28, 28])\n",
      "torch.Size([128])\n",
      "torch.Size([128, 1, 28, 28])\n",
      "torch.Size([128])\n",
      "torch.Size([128, 1, 28, 28])\n",
      "torch.Size([128])\n",
      "torch.Size([128, 1, 28, 28])\n",
      "torch.Size([128])\n",
      "torch.Size([128, 1, 28, 28])\n",
      "torch.Size([128])\n",
      "torch.Size([128, 1, 28, 28])\n",
      "torch.Size([128])\n",
      "torch.Size([128, 1, 28, 28])\n",
      "torch.Size([128])\n",
      "torch.Size([128, 1, 28, 28])\n",
      "torch.Size([128])\n",
      "torch.Size([128, 1, 28, 28])\n",
      "torch.Size([128])\n",
      "torch.Size([128, 1, 28, 28])\n",
      "torch.Size([128])\n",
      "torch.Size([128, 1, 28, 28])\n",
      "torch.Size([128])\n",
      "torch.Size([128, 1, 28, 28])\n",
      "torch.Size([128])\n",
      "torch.Size([128, 1, 28, 28])\n",
      "torch.Size([128])\n",
      "torch.Size([128, 1, 28, 28])\n",
      "torch.Size([128])\n",
      "torch.Size([128, 1, 28, 28])\n",
      "torch.Size([128])\n",
      "torch.Size([128, 1, 28, 28])\n",
      "torch.Size([128])\n",
      "torch.Size([128, 1, 28, 28])\n",
      "torch.Size([128])\n",
      "torch.Size([128, 1, 28, 28])\n",
      "torch.Size([128])\n",
      "torch.Size([128, 1, 28, 28])\n",
      "torch.Size([128])\n",
      "torch.Size([128, 1, 28, 28])\n",
      "torch.Size([128])\n",
      "torch.Size([128, 1, 28, 28])\n",
      "torch.Size([128])\n",
      "torch.Size([128, 1, 28, 28])\n",
      "torch.Size([128])\n",
      "torch.Size([128, 1, 28, 28])\n",
      "torch.Size([128])\n",
      "torch.Size([128, 1, 28, 28])\n",
      "torch.Size([128])\n",
      "torch.Size([128, 1, 28, 28])\n",
      "torch.Size([128])\n",
      "torch.Size([128, 1, 28, 28])\n",
      "torch.Size([128])\n",
      "torch.Size([128, 1, 28, 28])\n",
      "torch.Size([128])\n",
      "torch.Size([128, 1, 28, 28])\n",
      "torch.Size([128])\n",
      "torch.Size([128, 1, 28, 28])\n",
      "torch.Size([128])\n",
      "torch.Size([128, 1, 28, 28])\n",
      "torch.Size([128])\n",
      "torch.Size([128, 1, 28, 28])\n",
      "torch.Size([128])\n",
      "torch.Size([128, 1, 28, 28])\n",
      "torch.Size([128])\n",
      "torch.Size([128, 1, 28, 28])\n",
      "torch.Size([128])\n",
      "torch.Size([128, 1, 28, 28])\n",
      "torch.Size([128])\n",
      "torch.Size([128, 1, 28, 28])\n",
      "torch.Size([128])\n",
      "torch.Size([128, 1, 28, 28])\n",
      "torch.Size([128])\n",
      "torch.Size([128, 1, 28, 28])\n",
      "torch.Size([128])\n",
      "torch.Size([128, 1, 28, 28])\n",
      "torch.Size([128])\n",
      "torch.Size([128, 1, 28, 28])\n",
      "torch.Size([128])\n",
      "torch.Size([128, 1, 28, 28])\n",
      "torch.Size([128])\n",
      "torch.Size([128, 1, 28, 28])\n",
      "torch.Size([128])\n",
      "torch.Size([128, 1, 28, 28])\n",
      "torch.Size([128])\n",
      "torch.Size([128, 1, 28, 28])\n",
      "torch.Size([128])\n",
      "torch.Size([128, 1, 28, 28])\n",
      "torch.Size([128])\n",
      "torch.Size([128, 1, 28, 28])\n",
      "torch.Size([128])\n",
      "torch.Size([128, 1, 28, 28])\n",
      "torch.Size([128])\n",
      "torch.Size([128, 1, 28, 28])\n",
      "torch.Size([128])\n",
      "torch.Size([128, 1, 28, 28])\n",
      "torch.Size([128])\n",
      "torch.Size([128, 1, 28, 28])\n",
      "torch.Size([128])\n",
      "torch.Size([128, 1, 28, 28])\n",
      "torch.Size([128])\n",
      "torch.Size([128, 1, 28, 28])\n",
      "torch.Size([128])\n",
      "torch.Size([128, 1, 28, 28])\n",
      "torch.Size([128])\n",
      "torch.Size([128, 1, 28, 28])\n",
      "torch.Size([128])\n",
      "torch.Size([128, 1, 28, 28])\n",
      "torch.Size([128])\n",
      "torch.Size([128, 1, 28, 28])\n",
      "torch.Size([128])\n",
      "torch.Size([128, 1, 28, 28])\n",
      "torch.Size([128])\n",
      "torch.Size([128, 1, 28, 28])\n",
      "torch.Size([128])\n",
      "torch.Size([128, 1, 28, 28])\n",
      "torch.Size([128])\n",
      "torch.Size([128, 1, 28, 28])\n",
      "torch.Size([128])\n",
      "torch.Size([128, 1, 28, 28])\n",
      "torch.Size([128])\n",
      "torch.Size([128, 1, 28, 28])\n",
      "torch.Size([128])\n",
      "torch.Size([128, 1, 28, 28])\n",
      "torch.Size([128])\n",
      "torch.Size([128, 1, 28, 28])\n",
      "torch.Size([128])\n",
      "torch.Size([128, 1, 28, 28])\n",
      "torch.Size([128])\n",
      "torch.Size([128, 1, 28, 28])\n",
      "torch.Size([128])\n",
      "torch.Size([128, 1, 28, 28])\n",
      "torch.Size([128])\n",
      "torch.Size([128, 1, 28, 28])\n",
      "torch.Size([128])\n",
      "torch.Size([128, 1, 28, 28])\n",
      "torch.Size([128])\n",
      "torch.Size([128, 1, 28, 28])\n",
      "torch.Size([128])\n",
      "torch.Size([128, 1, 28, 28])\n",
      "torch.Size([128])\n",
      "torch.Size([128, 1, 28, 28])\n",
      "torch.Size([128])\n",
      "torch.Size([128, 1, 28, 28])\n",
      "torch.Size([128])\n",
      "torch.Size([128, 1, 28, 28])\n",
      "torch.Size([128])\n",
      "torch.Size([128, 1, 28, 28])\n",
      "torch.Size([128])\n",
      "torch.Size([128, 1, 28, 28])\n",
      "torch.Size([128])\n",
      "torch.Size([128, 1, 28, 28])\n",
      "torch.Size([128])\n",
      "torch.Size([128, 1, 28, 28])\n",
      "torch.Size([128])\n",
      "torch.Size([128, 1, 28, 28])\n",
      "torch.Size([128])\n",
      "torch.Size([128, 1, 28, 28])\n",
      "torch.Size([128])\n",
      "torch.Size([128, 1, 28, 28])\n",
      "torch.Size([128])\n",
      "torch.Size([128, 1, 28, 28])\n",
      "torch.Size([128])\n",
      "torch.Size([128, 1, 28, 28])\n",
      "torch.Size([128])\n",
      "torch.Size([128, 1, 28, 28])\n",
      "torch.Size([128])\n",
      "torch.Size([128, 1, 28, 28])\n",
      "torch.Size([128])\n",
      "torch.Size([128, 1, 28, 28])\n",
      "torch.Size([128])\n",
      "torch.Size([128, 1, 28, 28])\n",
      "torch.Size([128])\n",
      "torch.Size([128, 1, 28, 28])\n",
      "torch.Size([128])\n",
      "torch.Size([128, 1, 28, 28])\n",
      "torch.Size([128])\n",
      "torch.Size([128, 1, 28, 28])\n",
      "torch.Size([128])\n",
      "torch.Size([128, 1, 28, 28])\n",
      "torch.Size([128])\n",
      "torch.Size([128, 1, 28, 28])\n",
      "torch.Size([128])\n",
      "torch.Size([128, 1, 28, 28])\n",
      "torch.Size([128])\n",
      "torch.Size([128, 1, 28, 28])\n",
      "torch.Size([128])\n",
      "torch.Size([128, 1, 28, 28])\n",
      "torch.Size([128])\n",
      "torch.Size([128, 1, 28, 28])\n",
      "torch.Size([128])\n",
      "torch.Size([128, 1, 28, 28])\n",
      "torch.Size([128])\n",
      "torch.Size([128, 1, 28, 28])\n",
      "torch.Size([128])\n",
      "torch.Size([128, 1, 28, 28])\n",
      "torch.Size([128])\n",
      "torch.Size([128, 1, 28, 28])\n",
      "torch.Size([128])\n",
      "torch.Size([128, 1, 28, 28])\n",
      "torch.Size([128])\n",
      "torch.Size([128, 1, 28, 28])\n",
      "torch.Size([128])\n",
      "torch.Size([128, 1, 28, 28])\n",
      "torch.Size([128])\n",
      "torch.Size([128, 1, 28, 28])\n",
      "torch.Size([128])\n",
      "torch.Size([128, 1, 28, 28])\n",
      "torch.Size([128])\n",
      "torch.Size([128, 1, 28, 28])\n",
      "torch.Size([128])\n",
      "torch.Size([128, 1, 28, 28])\n",
      "torch.Size([128])\n",
      "torch.Size([128, 1, 28, 28])\n",
      "torch.Size([128])\n",
      "torch.Size([128, 1, 28, 28])\n",
      "torch.Size([128])\n",
      "torch.Size([128, 1, 28, 28])\n",
      "torch.Size([128])\n",
      "torch.Size([128, 1, 28, 28])\n",
      "torch.Size([128])\n",
      "torch.Size([128, 1, 28, 28])\n",
      "torch.Size([128])\n",
      "torch.Size([128, 1, 28, 28])\n",
      "torch.Size([128])\n",
      "torch.Size([128, 1, 28, 28])\n",
      "torch.Size([128])\n",
      "torch.Size([128, 1, 28, 28])\n",
      "torch.Size([128])\n",
      "torch.Size([128, 1, 28, 28])\n",
      "torch.Size([128])\n",
      "torch.Size([128, 1, 28, 28])\n",
      "torch.Size([128])\n",
      "torch.Size([128, 1, 28, 28])\n",
      "torch.Size([128])\n",
      "torch.Size([128, 1, 28, 28])\n",
      "torch.Size([128])\n",
      "torch.Size([128, 1, 28, 28])\n",
      "torch.Size([128])\n",
      "torch.Size([128, 1, 28, 28])\n",
      "torch.Size([128])\n",
      "torch.Size([128, 1, 28, 28])\n",
      "torch.Size([128])\n",
      "torch.Size([128, 1, 28, 28])\n",
      "torch.Size([128])\n",
      "torch.Size([128, 1, 28, 28])\n",
      "torch.Size([128])\n",
      "torch.Size([128, 1, 28, 28])\n",
      "torch.Size([128])\n",
      "torch.Size([128, 1, 28, 28])\n",
      "torch.Size([128])\n",
      "torch.Size([128, 1, 28, 28])\n",
      "torch.Size([128])\n",
      "torch.Size([128, 1, 28, 28])\n",
      "torch.Size([128])\n",
      "torch.Size([128, 1, 28, 28])\n",
      "torch.Size([128])\n",
      "torch.Size([128, 1, 28, 28])\n",
      "torch.Size([128])\n",
      "torch.Size([128, 1, 28, 28])\n",
      "torch.Size([128])\n",
      "torch.Size([128, 1, 28, 28])\n",
      "torch.Size([128])\n",
      "torch.Size([128, 1, 28, 28])\n",
      "torch.Size([128])\n",
      "torch.Size([128, 1, 28, 28])\n",
      "torch.Size([128])\n",
      "torch.Size([128, 1, 28, 28])\n",
      "torch.Size([128])\n",
      "torch.Size([128, 1, 28, 28])\n",
      "torch.Size([128])\n",
      "torch.Size([128, 1, 28, 28])\n",
      "torch.Size([128])\n",
      "torch.Size([128, 1, 28, 28])\n",
      "torch.Size([128])\n",
      "torch.Size([128, 1, 28, 28])\n",
      "torch.Size([128])\n",
      "torch.Size([128, 1, 28, 28])\n",
      "torch.Size([128])\n",
      "torch.Size([128, 1, 28, 28])\n",
      "torch.Size([128])\n",
      "torch.Size([128, 1, 28, 28])\n",
      "torch.Size([128])\n",
      "torch.Size([128, 1, 28, 28])\n",
      "torch.Size([128])\n",
      "torch.Size([128, 1, 28, 28])\n",
      "torch.Size([128])\n",
      "torch.Size([128, 1, 28, 28])\n",
      "torch.Size([128])\n",
      "torch.Size([128, 1, 28, 28])\n",
      "torch.Size([128])\n",
      "torch.Size([128, 1, 28, 28])\n",
      "torch.Size([128])\n",
      "torch.Size([128, 1, 28, 28])\n",
      "torch.Size([128])\n",
      "torch.Size([128, 1, 28, 28])\n",
      "torch.Size([128])\n",
      "torch.Size([128, 1, 28, 28])\n",
      "torch.Size([128])\n",
      "torch.Size([128, 1, 28, 28])\n",
      "torch.Size([128])\n",
      "torch.Size([128, 1, 28, 28])\n",
      "torch.Size([128])\n",
      "torch.Size([128, 1, 28, 28])\n",
      "torch.Size([128])\n",
      "torch.Size([128, 1, 28, 28])\n",
      "torch.Size([128])\n",
      "torch.Size([128, 1, 28, 28])\n",
      "torch.Size([128])\n",
      "torch.Size([128, 1, 28, 28])\n",
      "torch.Size([128])\n",
      "torch.Size([128, 1, 28, 28])\n",
      "torch.Size([128])\n",
      "torch.Size([128, 1, 28, 28])\n",
      "torch.Size([128])\n",
      "torch.Size([128, 1, 28, 28])\n",
      "torch.Size([128])\n",
      "torch.Size([128, 1, 28, 28])\n",
      "torch.Size([128])\n",
      "torch.Size([128, 1, 28, 28])\n",
      "torch.Size([128])\n",
      "torch.Size([128, 1, 28, 28])\n",
      "torch.Size([128])\n",
      "torch.Size([128, 1, 28, 28])\n",
      "torch.Size([128])\n",
      "torch.Size([128, 1, 28, 28])\n",
      "torch.Size([128])\n",
      "torch.Size([128, 1, 28, 28])\n",
      "torch.Size([128])\n",
      "torch.Size([128, 1, 28, 28])\n",
      "torch.Size([128])\n",
      "torch.Size([128, 1, 28, 28])\n",
      "torch.Size([128])\n",
      "torch.Size([128, 1, 28, 28])\n",
      "torch.Size([128])\n",
      "torch.Size([128, 1, 28, 28])\n",
      "torch.Size([128])\n",
      "torch.Size([128, 1, 28, 28])\n",
      "torch.Size([128])\n",
      "torch.Size([128, 1, 28, 28])\n",
      "torch.Size([128])\n",
      "torch.Size([128, 1, 28, 28])\n",
      "torch.Size([128])\n",
      "torch.Size([128, 1, 28, 28])\n",
      "torch.Size([128])\n",
      "torch.Size([128, 1, 28, 28])\n",
      "torch.Size([128])\n",
      "torch.Size([128, 1, 28, 28])\n",
      "torch.Size([128])\n",
      "torch.Size([128, 1, 28, 28])\n",
      "torch.Size([128])\n",
      "torch.Size([128, 1, 28, 28])\n",
      "torch.Size([128])\n",
      "torch.Size([128, 1, 28, 28])\n",
      "torch.Size([128])\n",
      "torch.Size([128, 1, 28, 28])\n",
      "torch.Size([128])\n",
      "torch.Size([128, 1, 28, 28])\n",
      "torch.Size([128])\n",
      "torch.Size([128, 1, 28, 28])\n",
      "torch.Size([128])\n",
      "torch.Size([128, 1, 28, 28])\n",
      "torch.Size([128])\n",
      "torch.Size([128, 1, 28, 28])\n",
      "torch.Size([128])\n",
      "torch.Size([128, 1, 28, 28])\n",
      "torch.Size([128])\n",
      "torch.Size([128, 1, 28, 28])\n",
      "torch.Size([128])\n",
      "torch.Size([128, 1, 28, 28])\n",
      "torch.Size([128])\n",
      "torch.Size([128, 1, 28, 28])\n",
      "torch.Size([128])\n",
      "torch.Size([128, 1, 28, 28])\n",
      "torch.Size([128])\n",
      "torch.Size([128, 1, 28, 28])\n",
      "torch.Size([128])\n",
      "torch.Size([128, 1, 28, 28])\n",
      "torch.Size([128])\n",
      "torch.Size([128, 1, 28, 28])\n",
      "torch.Size([128])\n",
      "torch.Size([128, 1, 28, 28])\n",
      "torch.Size([128])\n",
      "torch.Size([128, 1, 28, 28])\n",
      "torch.Size([128])\n",
      "torch.Size([128, 1, 28, 28])\n",
      "torch.Size([128])\n",
      "torch.Size([96, 1, 28, 28])\n",
      "torch.Size([96])\n"
     ]
    }
   ],
   "source": [
    "for batch in trainloader:\n",
    "    images, labels = batch\n",
    "    print(images.shape)\n",
    "    print(labels.shape)"
   ]
  },
  {
   "cell_type": "code",
   "execution_count": 19,
   "id": "b8bc8292",
   "metadata": {
    "execution": {
     "iopub.execute_input": "2024-02-08T19:35:27.216001Z",
     "iopub.status.busy": "2024-02-08T19:35:27.215552Z",
     "iopub.status.idle": "2024-02-08T19:35:27.222409Z",
     "shell.execute_reply": "2024-02-08T19:35:27.221332Z"
    },
    "id": "2UIHMFaGc68v",
    "outputId": "92894715-1b1d-461d-ebae-e358e83f647b",
    "papermill": {
     "duration": 0.033444,
     "end_time": "2024-02-08T19:35:27.224826",
     "exception": false,
     "start_time": "2024-02-08T19:35:27.191382",
     "status": "completed"
    },
    "tags": []
   },
   "outputs": [
    {
     "data": {
      "text/plain": [
       "torch.Size([1, 28, 28])"
      ]
     },
     "execution_count": 19,
     "metadata": {},
     "output_type": "execute_result"
    }
   ],
   "source": [
    "images[0].shape"
   ]
  },
  {
   "cell_type": "markdown",
   "id": "3c64f1ec",
   "metadata": {
    "id": "UPcYEMI4_L7C",
    "papermill": {
     "duration": 0.022927,
     "end_time": "2024-02-08T19:35:27.271177",
     "exception": false,
     "start_time": "2024-02-08T19:35:27.248250",
     "status": "completed"
    },
    "tags": []
   },
   "source": []
  },
  {
   "cell_type": "code",
   "execution_count": 20,
   "id": "9106bbeb",
   "metadata": {
    "execution": {
     "iopub.execute_input": "2024-02-08T19:35:27.372730Z",
     "iopub.status.busy": "2024-02-08T19:35:27.372351Z",
     "iopub.status.idle": "2024-02-08T19:35:27.377259Z",
     "shell.execute_reply": "2024-02-08T19:35:27.376172Z"
    },
    "id": "5PjVORrtc5z3",
    "papermill": {
     "duration": 0.085586,
     "end_time": "2024-02-08T19:35:27.379688",
     "exception": false,
     "start_time": "2024-02-08T19:35:27.294102",
     "status": "completed"
    },
    "tags": []
   },
   "outputs": [],
   "source": [
    "import numpy as np\n",
    "import matplotlib.pyplot as plt"
   ]
  },
  {
   "cell_type": "code",
   "execution_count": 21,
   "id": "24e8f876",
   "metadata": {
    "execution": {
     "iopub.execute_input": "2024-02-08T19:35:27.427502Z",
     "iopub.status.busy": "2024-02-08T19:35:27.427132Z",
     "iopub.status.idle": "2024-02-08T19:35:27.432944Z",
     "shell.execute_reply": "2024-02-08T19:35:27.431968Z"
    },
    "id": "7R0lTiNcqsdS",
    "papermill": {
     "duration": 0.031906,
     "end_time": "2024-02-08T19:35:27.435101",
     "exception": false,
     "start_time": "2024-02-08T19:35:27.403195",
     "status": "completed"
    },
    "tags": []
   },
   "outputs": [],
   "source": [
    "def imgshow(img):\n",
    "  img = img/2+ 0.5\n",
    "  npimg = img.numpy()\n",
    "  plt.imshow(np.transpose(npimg, (1,2,0)))\n",
    "  plt.show()\n",
    "\n",
    "  dataiter = iter(trainloader)\n",
    "  images, labels = batch\n"
   ]
  },
  {
   "cell_type": "code",
   "execution_count": 22,
   "id": "5d7d04f1",
   "metadata": {
    "execution": {
     "iopub.execute_input": "2024-02-08T19:35:27.482332Z",
     "iopub.status.busy": "2024-02-08T19:35:27.481973Z",
     "iopub.status.idle": "2024-02-08T19:35:27.715182Z",
     "shell.execute_reply": "2024-02-08T19:35:27.714115Z"
    },
    "id": "C685o-ANgiWx",
    "outputId": "a65f4cf0-0c6c-48bd-833c-6002d0c43fbe",
    "papermill": {
     "duration": 0.260358,
     "end_time": "2024-02-08T19:35:27.718231",
     "exception": false,
     "start_time": "2024-02-08T19:35:27.457873",
     "status": "completed"
    },
    "tags": []
   },
   "outputs": [
    {
     "data": {
      "image/png": "[encoded data removed]",
      "text/plain": [
       "<Figure size 640x480 with 1 Axes>"
      ]
     },
     "metadata": {},
     "output_type": "display_data"
    }
   ],
   "source": [
    " imgshow(torchvision.utils.make_grid(images))"
   ]
  },
  {
   "cell_type": "markdown",
   "id": "dd5c9ff3",
   "metadata": {
    "id": "vgG1mPKd_PUO",
    "papermill": {
     "duration": 0.024415,
     "end_time": "2024-02-08T19:35:27.767368",
     "exception": false,
     "start_time": "2024-02-08T19:35:27.742953",
     "status": "completed"
    },
    "tags": []
   },
   "source": [
    "# Build a convolutional layer"
   ]
  },
  {
   "cell_type": "code",
   "execution_count": 23,
   "id": "439d7c9e",
   "metadata": {
    "execution": {
     "iopub.execute_input": "2024-02-08T19:35:27.818697Z",
     "iopub.status.busy": "2024-02-08T19:35:27.818308Z",
     "iopub.status.idle": "2024-02-08T19:35:27.823394Z",
     "shell.execute_reply": "2024-02-08T19:35:27.822147Z"
    },
    "id": "4Us-pHNnEC4w",
    "papermill": {
     "duration": 0.033954,
     "end_time": "2024-02-08T19:35:27.825780",
     "exception": false,
     "start_time": "2024-02-08T19:35:27.791826",
     "status": "completed"
    },
    "tags": []
   },
   "outputs": [],
   "source": [
    "import torch.nn as nn\n",
    "import torch.nn.functional as F"
   ]
  },
  {
   "cell_type": "code",
   "execution_count": 24,
   "id": "ff772ff3",
   "metadata": {
    "execution": {
     "iopub.execute_input": "2024-02-08T19:35:27.877225Z",
     "iopub.status.busy": "2024-02-08T19:35:27.876857Z",
     "iopub.status.idle": "2024-02-08T19:35:27.885838Z",
     "shell.execute_reply": "2024-02-08T19:35:27.884736Z"
    },
    "id": "y3l7bemcV4Cb",
    "papermill": {
     "duration": 0.03757,
     "end_time": "2024-02-08T19:35:27.888136",
     "exception": false,
     "start_time": "2024-02-08T19:35:27.850566",
     "status": "completed"
    },
    "tags": []
   },
   "outputs": [],
   "source": [
    "class Model(nn.Module):\n",
    "  def __int__(self):\n",
    "    super(Model, self).__init__()\n",
    "\n",
    "    self.conv1 = nn.Conv2d(1,32,3)\n",
    "    self.conv2 = nn.Conv2d(32,64,3)\n",
    "    self.pool = nn.MaxPool2d(2,2)\n",
    "    self.fc1 = nn.Linear(64 * 12 * 12, 128)\n",
    "    self.fc2 = nn.Linear(128, 10)\n",
    "\n",
    "  def  forward(self, x):\n",
    "    x = F.relu(self.conv1(x))\n",
    "    x = self.pool(F.relu(self.conv2(x)))\n",
    "    x = x.view(-1, 64*12*2)\n",
    "    x = F.relu(self.fc1(x))\n",
    "\n",
    "    return x\n",
    "\n"
   ]
  },
  {
   "cell_type": "code",
   "execution_count": 25,
   "id": "981aa539",
   "metadata": {
    "execution": {
     "iopub.execute_input": "2024-02-08T19:35:27.940321Z",
     "iopub.status.busy": "2024-02-08T19:35:27.939952Z",
     "iopub.status.idle": "2024-02-08T19:35:27.947132Z",
     "shell.execute_reply": "2024-02-08T19:35:27.946028Z"
    },
    "id": "s8dNQhkoxZjC",
    "outputId": "00752df6-f8a6-40a3-ba5c-50da9146d250",
    "papermill": {
     "duration": 0.036146,
     "end_time": "2024-02-08T19:35:27.949552",
     "exception": false,
     "start_time": "2024-02-08T19:35:27.913406",
     "status": "completed"
    },
    "tags": []
   },
   "outputs": [
    {
     "data": {
      "text/plain": [
       "Model()"
      ]
     },
     "execution_count": 25,
     "metadata": {},
     "output_type": "execute_result"
    }
   ],
   "source": [
    "model = Model()\n",
    "model.to(device)"
   ]
  },
  {
   "cell_type": "markdown",
   "id": "574728d2",
   "metadata": {
    "id": "EQVGgsW70K99",
    "papermill": {
     "duration": 0.025205,
     "end_time": "2024-02-08T19:35:27.999589",
     "exception": false,
     "start_time": "2024-02-08T19:35:27.974384",
     "status": "completed"
    },
    "tags": []
   },
   "source": [
    "# Discussion about loss function"
   ]
  },
  {
   "cell_type": "code",
   "execution_count": 26,
   "id": "b110bda3",
   "metadata": {
    "execution": {
     "iopub.execute_input": "2024-02-08T19:35:28.049930Z",
     "iopub.status.busy": "2024-02-08T19:35:28.049524Z",
     "iopub.status.idle": "2024-02-08T19:35:28.751225Z",
     "shell.execute_reply": "2024-02-08T19:35:28.749722Z"
    },
    "id": "e8W-tEs_0hgW",
    "outputId": "fb2ec74d-9b13-42ed-911e-293a94efccc9",
    "papermill": {
     "duration": 0.729463,
     "end_time": "2024-02-08T19:35:28.753062",
     "exception": true,
     "start_time": "2024-02-08T19:35:28.023599",
     "status": "failed"
    },
    "tags": []
   },
   "outputs": [
    {
     "ename": "ValueError",
     "evalue": "optimizer got an empty parameter list",
     "output_type": "error",
     "traceback": [
      "\u001b[0;31m---------------------------------------------------------------------------\u001b[0m",
      "\u001b[0;31mValueError\u001b[0m                                Traceback (most recent call last)",
      "Cell \u001b[0;32mIn[26], line 5\u001b[0m\n\u001b[1;32m      1\u001b[0m \u001b[38;5;28;01mimport\u001b[39;00m \u001b[38;5;21;01mtorch\u001b[39;00m\u001b[38;5;21;01m.\u001b[39;00m\u001b[38;5;21;01moptim\u001b[39;00m \u001b[38;5;28;01mas\u001b[39;00m \u001b[38;5;21;01moptim\u001b[39;00m\n\u001b[1;32m      3\u001b[0m criterion \u001b[38;5;241m=\u001b[39m nn\u001b[38;5;241m.\u001b[39mCrossEntropyLoss()\n\u001b[0;32m----> 5\u001b[0m optimizer \u001b[38;5;241m=\u001b[39m \u001b[43moptim\u001b[49m\u001b[38;5;241;43m.\u001b[39;49m\u001b[43mSGD\u001b[49m\u001b[43m(\u001b[49m\u001b[43mmodel\u001b[49m\u001b[38;5;241;43m.\u001b[39;49m\u001b[43mparameters\u001b[49m\u001b[43m(\u001b[49m\u001b[43m)\u001b[49m\u001b[43m,\u001b[49m\u001b[43m \u001b[49m\u001b[43mlr\u001b[49m\u001b[43m \u001b[49m\u001b[38;5;241;43m=\u001b[39;49m\u001b[43m \u001b[49m\u001b[38;5;241;43m0.001\u001b[39;49m\u001b[43m,\u001b[49m\u001b[43m \u001b[49m\u001b[43mmomentum\u001b[49m\u001b[43m \u001b[49m\u001b[38;5;241;43m=\u001b[39;49m\u001b[43m \u001b[49m\u001b[38;5;241;43m0.9\u001b[39;49m\u001b[43m)\u001b[49m\n",
      "File \u001b[0;32m/opt/conda/lib/python3.10/site-packages/torch/optim/sgd.py:26\u001b[0m, in \u001b[0;36mSGD.__init__\u001b[0;34m(self, params, lr, momentum, dampening, weight_decay, nesterov, maximize, foreach, differentiable)\u001b[0m\n\u001b[1;32m     24\u001b[0m \u001b[38;5;28;01mif\u001b[39;00m nesterov \u001b[38;5;129;01mand\u001b[39;00m (momentum \u001b[38;5;241m<\u001b[39m\u001b[38;5;241m=\u001b[39m \u001b[38;5;241m0\u001b[39m \u001b[38;5;129;01mor\u001b[39;00m dampening \u001b[38;5;241m!=\u001b[39m \u001b[38;5;241m0\u001b[39m):\n\u001b[1;32m     25\u001b[0m     \u001b[38;5;28;01mraise\u001b[39;00m \u001b[38;5;167;01mValueError\u001b[39;00m(\u001b[38;5;124m\"\u001b[39m\u001b[38;5;124mNesterov momentum requires a momentum and zero dampening\u001b[39m\u001b[38;5;124m\"\u001b[39m)\n\u001b[0;32m---> 26\u001b[0m \u001b[38;5;28;43msuper\u001b[39;49m\u001b[43m(\u001b[49m\u001b[43m)\u001b[49m\u001b[38;5;241;43m.\u001b[39;49m\u001b[38;5;21;43m__init__\u001b[39;49m\u001b[43m(\u001b[49m\u001b[43mparams\u001b[49m\u001b[43m,\u001b[49m\u001b[43m \u001b[49m\u001b[43mdefaults\u001b[49m\u001b[43m)\u001b[49m\n",
      "File \u001b[0;32m/opt/conda/lib/python3.10/site-packages/torch/optim/optimizer.py:261\u001b[0m, in \u001b[0;36mOptimizer.__init__\u001b[0;34m(self, params, defaults)\u001b[0m\n\u001b[1;32m    259\u001b[0m param_groups \u001b[38;5;241m=\u001b[39m \u001b[38;5;28mlist\u001b[39m(params)\n\u001b[1;32m    260\u001b[0m \u001b[38;5;28;01mif\u001b[39;00m \u001b[38;5;28mlen\u001b[39m(param_groups) \u001b[38;5;241m==\u001b[39m \u001b[38;5;241m0\u001b[39m:\n\u001b[0;32m--> 261\u001b[0m     \u001b[38;5;28;01mraise\u001b[39;00m \u001b[38;5;167;01mValueError\u001b[39;00m(\u001b[38;5;124m\"\u001b[39m\u001b[38;5;124moptimizer got an empty parameter list\u001b[39m\u001b[38;5;124m\"\u001b[39m)\n\u001b[1;32m    262\u001b[0m \u001b[38;5;28;01mif\u001b[39;00m \u001b[38;5;129;01mnot\u001b[39;00m \u001b[38;5;28misinstance\u001b[39m(param_groups[\u001b[38;5;241m0\u001b[39m], \u001b[38;5;28mdict\u001b[39m):\n\u001b[1;32m    263\u001b[0m     param_groups \u001b[38;5;241m=\u001b[39m [{\u001b[38;5;124m'\u001b[39m\u001b[38;5;124mparams\u001b[39m\u001b[38;5;124m'\u001b[39m: param_groups}]\n",
      "\u001b[0;31mValueError\u001b[0m: optimizer got an empty parameter list"
     ]
    }
   ],
   "source": [
    "import torch.optim as optim\n",
    "\n",
    "criterion = nn.CrossEntropyLoss()\n",
    "\n",
    "optimizer = optim.SGD(model.parameters(), lr = 0.001, momentum = 0.9)"
   ]
  },
  {
   "cell_type": "code",
   "execution_count": null,
   "id": "9e3e882b",
   "metadata": {
    "papermill": {
     "duration": null,
     "end_time": null,
     "exception": null,
     "start_time": null,
     "status": "pending"
    },
    "tags": []
   },
   "outputs": [],
   "source": []
  }
 ],
 "metadata": {
  "accelerator": "GPU",
  "colab": {
   "gpuType": "T4",
   "provenance": []
  },
  "kaggle": {
   "accelerator": "gpu",
   "dataSources": [],
   "dockerImageVersionId": 30646,
   "isGpuEnabled": true,
   "isInternetEnabled": true,
   "language": "python",
   "sourceType": "notebook"
  },
  "kernelspec": {
   "display_name": "Python 3",
   "language": "python",
   "name": "python3"
  },
  "language_info": {
   "codemirror_mode": {
    "name": "ipython",
    "version": 3
   },
   "file_extension": ".py",
   "mimetype": "text/x-python",
   "name": "python",
   "nbconvert_exporter": "python",
   "pygments_lexer": "ipython3",
   "version": "3.10.13"
  },
  "papermill": {
   "default_parameters": {},
   "duration": 33.363524,
   "end_time": "2024-02-08T19:35:31.373571",
   "environment_variables": {},
   "exception": true,
   "input_path": "__notebook__.ipynb",
   "output_path": "__notebook__.ipynb",
   "parameters": {},
   "start_time": "2024-02-08T19:34:58.010047",
   "version": "2.5.0"
  }
 },
 "nbformat": 4,
 "nbformat_minor": 5
}
