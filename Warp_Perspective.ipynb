{
 "cells": [
  {
   "cell_type": "code",
   "execution_count": 6,
   "id": "f8ea2c24",
   "metadata": {},
   "outputs": [],
   "source": [
    "import cv2\n",
    "import numpy as np"
   ]
  },
  {
   "cell_type": "code",
   "execution_count": 7,
   "id": "89a18357",
   "metadata": {},
   "outputs": [],
   "source": [
    "img = cv2.imread('menu.jpg')"
   ]
  },
  {
   "cell_type": "code",
   "execution_count": 8,
   "id": "14ec523c",
   "metadata": {},
   "outputs": [],
   "source": [
    "width, height = 400,100\n",
    "ptsA = np.float32([[246,260],[928,263],[237, 396],[926,391]])\n",
    "ptsB = np.float32([[0,0],[width, 0],[0,height], [width,height]])\n",
    "\n",
    "matrix = cv2.getPerspectiveTransform(ptsA,ptsB)\n",
    "warped_img = cv2.warpPerspective(img, matrix, (width, height))\n",
    "\n",
    "scale = 0.5\n",
    "\n",
    "width = int(img.shape[1]*scale)\n",
    "height = int(img.shape[0]*scale)\n",
    "\n",
    "resized_img = cv2.resize(img, (width,height))\n",
    "\n",
    "cv2.imshow('img', resized_img)\n",
    "cv2.imshow('warp img', warped_img)\n",
    "cv2.waitKey(0)\n",
    "cv2.destroyAllWindows()"
   ]
  },
  {
   "cell_type": "code",
   "execution_count": null,
   "id": "b592d4a2",
   "metadata": {},
   "outputs": [],
   "source": []
  }
 ],
 "metadata": {
  "kernelspec": {
   "display_name": "Python 3 (ipykernel)",
   "language": "python",
   "name": "python3"
  },
  "language_info": {
   "codemirror_mode": {
    "name": "ipython",
    "version": 3
   },
   "file_extension": ".py",
   "mimetype": "text/x-python",
   "name": "python",
   "nbconvert_exporter": "python",
   "pygments_lexer": "ipython3",
   "version": "3.10.9"
  }
 },
 "nbformat": 4,
 "nbformat_minor": 5
}
