{
 "cells": [
  {
   "cell_type": "code",
   "execution_count": 18,
   "id": "d2e34cc6",
   "metadata": {},
   "outputs": [],
   "source": [
    "import cv2\n",
    "import numpy as np"
   ]
  },
  {
   "cell_type": "code",
   "execution_count": 19,
   "id": "27dc7d54",
   "metadata": {},
   "outputs": [],
   "source": [
    "img = cv2.imread('foothball_img.webp')"
   ]
  },
  {
   "cell_type": "code",
   "execution_count": 20,
   "id": "05596791",
   "metadata": {},
   "outputs": [],
   "source": [
    "# Translated the img"
   ]
  },
  {
   "cell_type": "code",
   "execution_count": 24,
   "id": "595d6235",
   "metadata": {},
   "outputs": [],
   "source": [
    "import cv2\n",
    "import numpy as np\n",
    "\n",
    "x = 100\n",
    "y = -100\n",
    "translation_matrix = np.float32([[1, 0, x], [0, 1, y]])\n",
    "dim = (img.shape[1], img.shape[0])\n",
    "\n",
    "\n",
    "cv2.imshow('frame', translated_img)\n",
    "cv2.waitKey(0)\n",
    "cv2.destroyAllWindows()\n"
   ]
  },
  {
   "cell_type": "code",
   "execution_count": 22,
   "id": "6bd5830d",
   "metadata": {},
   "outputs": [],
   "source": [
    "# Rotated the img"
   ]
  },
  {
   "cell_type": "code",
   "execution_count": 25,
   "id": "f7c8301b",
   "metadata": {},
   "outputs": [],
   "source": [
    "import cv2\n",
    "import numpy as np\n",
    "\n",
    "# Assuming img is your image array\n",
    "width, height = img.shape[1], img.shape[0]\n",
    "pointRot = width/2, height/2\n",
    "angle = 45\n",
    "scale = 0.5\n",
    "\n",
    "rotation_matrix = cv2.getRotationMatrix2D(pointRot, angle, scale)\n",
    "rotated_img = cv2.warpAffine(img, rotation_matrix, (width, height))\n",
    "\n",
    "cv2.imshow('frame', rotated_img)\n",
    "cv2.waitKey(0)\n",
    "cv2.destroyAllWindows()\n"
   ]
  },
  {
   "cell_type": "code",
   "execution_count": null,
   "id": "884be7f6",
   "metadata": {},
   "outputs": [],
   "source": []
  }
 ],
 "metadata": {
  "kernelspec": {
   "display_name": "Python 3 (ipykernel)",
   "language": "python",
   "name": "python3"
  },
  "language_info": {
   "codemirror_mode": {
    "name": "ipython",
    "version": 3
   },
   "file_extension": ".py",
   "mimetype": "text/x-python",
   "name": "python",
   "nbconvert_exporter": "python",
   "pygments_lexer": "ipython3",
   "version": "3.10.9"
  }
 },
 "nbformat": 4,
 "nbformat_minor": 5
}
