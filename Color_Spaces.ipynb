{
 "cells": [
  {
   "cell_type": "markdown",
   "id": "d1407446",
   "metadata": {},
   "source": [
    "# Convert the gray image colour into different color image"
   ]
  },
  {
   "cell_type": "code",
   "execution_count": null,
   "id": "412279d0",
   "metadata": {},
   "outputs": [],
   "source": [
    "import cv2\n",
    "\n",
    "# Assuming img is your image array\n",
    "width, height = img.shape[1], img.shape[0]\n",
    "\n",
    "# Resize factor, adjust as needed\n",
    "resize_factor = 0.5\n",
    "\n",
    "# Resize the image\n",
    "resized_img = cv2.resize(img, (int(width * resize_factor), int(height * resize_factor)))\n",
    "\n",
    "gray = cv2.cvtColor(resized_img, cv2.COLOR_BGR2GRAY)\n",
    "cv2.imshow('Grayscale', gray)\n",
    "\n",
    "HSV = cv2.cvtColor(resized_img, cv2.COLOR_BGR2HSV)\n",
    "cv2.imshow('HSV', HSV)\n",
    "\n",
    "LAB = cv2.cvtColor(resized_img, cv2.COLOR_BGR2LAB)\n",
    "cv2.imshow('LAB', LAB)\n",
    "\n",
    "RGB = cv2.cvtColor(resized_img, cv2.COLOR_BGR2RGB)\n",
    "cv2.imshow('RGB', RGB)\n",
    "\n",
    "cv2.waitKey(0)\n",
    "cv2.destroyAllWindows()"
   ]
  }
 ],
 "metadata": {
  "kernelspec": {
   "display_name": "Python 3 (ipykernel)",
   "language": "python",
   "name": "python3"
  },
  "language_info": {
   "codemirror_mode": {
    "name": "ipython",
    "version": 3
   },
   "file_extension": ".py",
   "mimetype": "text/x-python",
   "name": "python",
   "nbconvert_exporter": "python",
   "pygments_lexer": "ipython3",
   "version": "3.10.9"
  }
 },
 "nbformat": 4,
 "nbformat_minor": 5
}
