{
 "cells": [
  {
   "cell_type": "markdown",
   "id": "c43d36aa",
   "metadata": {},
   "source": [
    "# Convert the image into blur and BGR format"
   ]
  },
  {
   "cell_type": "code",
   "execution_count": 5,
   "id": "7038d07f",
   "metadata": {},
   "outputs": [],
   "source": [
    "import cv2"
   ]
  },
  {
   "cell_type": "code",
   "execution_count": 7,
   "id": "95fbc141",
   "metadata": {},
   "outputs": [],
   "source": [
    "img = cv2.imread('foothball_img.webp')\n",
    "kernel_size = (7,7)\n",
    "\n",
    "sigma = 0\n",
    "\n",
    "blurred_img = cv2.GaussianBlur(img, kernel_size, sigma)\n",
    "\n",
    "gray = cv2.cvtColor(img, cv2.COLOR_BGR2GRAY)\n",
    "\n",
    "cv2.imshow('blur', blurred_img )\n",
    "cv2.imshow('gray', gray)\n",
    "cv2.waitKey(0)\n",
    "cv2.destroyAllWindows()\n"
   ]
  },
  {
   "cell_type": "code",
   "execution_count": null,
   "id": "a3f210fe",
   "metadata": {},
   "outputs": [],
   "source": []
  }
 ],
 "metadata": {
  "kernelspec": {
   "display_name": "Python 3 (ipykernel)",
   "language": "python",
   "name": "python3"
  },
  "language_info": {
   "codemirror_mode": {
    "name": "ipython",
    "version": 3
   },
   "file_extension": ".py",
   "mimetype": "text/x-python",
   "name": "python",
   "nbconvert_exporter": "python",
   "pygments_lexer": "ipython3",
   "version": "3.10.9"
  }
 },
 "nbformat": 4,
 "nbformat_minor": 5
}
