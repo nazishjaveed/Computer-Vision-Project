{
 "cells": [
  {
   "cell_type": "markdown",
   "id": "dcefb793",
   "metadata": {},
   "source": [
    "\n",
    "# Generate the bitwise or, not , and images"
   ]
  },
  {
   "cell_type": "code",
   "execution_count": 1,
   "id": "1fb82f38",
   "metadata": {},
   "outputs": [],
   "source": [
    "import cv2\n",
    "import numpy as np\n",
    "\n",
    "# Assuming you have defined rectangles and circles as numpy arrays\n",
    "rectangle = np.zeros((100, 100), dtype=np.uint8)\n",
    "cv2.rectangle(rectangle, (10, 10), (50, 50), 255, -1)\n",
    "\n",
    "circle = np.zeros((100, 100), dtype=np.uint8)\n",
    "cv2.circle(circle, (50, 50), 30, 255, -1)\n",
    "\n",
    "# Now you can perform bitwise operations\n",
    "and_bitwise = cv2.bitwise_and(rectangle, circle)\n",
    "or_bitwise = cv2.bitwise_or(rectangle, circle)\n",
    "xor_bitwise = cv2.bitwise_xor(rectangle, circle)\n",
    "\n",
    "# Perform bitwise NOT operation\n",
    "not_bitwise = cv2.bitwise_not(rectangle)\n",
    "\n",
    "cv2.imshow('and_bitwise', and_bitwise)\n",
    "cv2.imshow('or_bitwise', or_bitwise)\n",
    "cv2.imshow('xor_bitwise', xor_bitwise)\n",
    "cv2.imshow('not_bitwise', not_bitwise)\n",
    "cv2.waitKey(0)\n",
    "cv2.destroyAllWindows()\n"
   ]
  },
  {
   "cell_type": "code",
   "execution_count": null,
   "id": "41b38c5b",
   "metadata": {},
   "outputs": [],
   "source": []
  }
 ],
 "metadata": {
  "kernelspec": {
   "display_name": "Python 3 (ipykernel)",
   "language": "python",
   "name": "python3"
  },
  "language_info": {
   "codemirror_mode": {
    "name": "ipython",
    "version": 3
   },
   "file_extension": ".py",
   "mimetype": "text/x-python",
   "name": "python",
   "nbconvert_exporter": "python",
   "pygments_lexer": "ipython3",
   "version": "3.10.9"
  }
 },
 "nbformat": 4,
 "nbformat_minor": 5
}
